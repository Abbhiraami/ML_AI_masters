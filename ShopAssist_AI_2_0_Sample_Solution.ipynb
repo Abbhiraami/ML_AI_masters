{
  "cells": [
    {
      "cell_type": "markdown",
      "metadata": {
        "id": "view-in-github",
        "colab_type": "text"
      },
      "source": [
        "<a href=\"https://colab.research.google.com/github/Abbhiraami/ML_AI_masters/blob/main/ShopAssist_AI_2_0_Sample_Solution.ipynb\" target=\"_parent\"><img src=\"https://colab.research.google.com/assets/colab-badge.svg\" alt=\"Open In Colab\"/></a>"
      ]
    },
    {
      "cell_type": "markdown",
      "metadata": {
        "id": "Lget6YStkk-N"
      },
      "source": [
        "## ShopAssist AI 2.0\n",
        "\n",
        "Documentation: [Blog](https://www.datacamp.com/tutorial/open-ai-function-calling-tutorial)\n",
        "[OpenAI](https://platform.openai.com/docs/guides/function-calling?api-mode=chat)\n",
        "\n",
        "In this sample solution, we have provided a method to combine function calling API with the ShopAssist AI 2.0's system design to make it more seamless, and with less lines of code!\n",
        "\n",
        "This solution, redefines our system design, and refines the overall conversation flow. Also, the output of the layers are now more consistent and therefore, require less manipulation for a seamless conversation.\n",
        "\n",
        "Note that this is an outline solution, and hence contains primarily the function calling API prototype only. You are suggested to modify this further, and add additional layers (moderation, etc.) to modify the output as well"
      ]
    },
    {
      "cell_type": "raw",
      "metadata": {
        "id": "Y4ukINBvyvQ9",
        "outputId": "de69957a-af32-4d5b-c82c-d1b500376e54"
      },
      "source": [
        "#Install openai\n",
        "!pip install openai"
      ]
    },
    {
      "cell_type": "code",
      "execution_count": 1,
      "metadata": {
        "id": "SJJVMuodyb2u"
      },
      "outputs": [],
      "source": [
        "## Import the necessary libraries for building the project\n",
        "import os,json,ast\n",
        "import openai\n",
        "import pandas as pd\n",
        "\n",
        "## Add your OPENAI API KEY\n",
        "# from config import api_key\n",
        "# openai.api_key = api_key\n",
        "\n",
        "from google.colab import userdata\n",
        "openai.api_key=userdata.get('OPENAI_API_KEY')"
      ]
    },
    {
      "cell_type": "code",
      "execution_count": 2,
      "metadata": {
        "id": "GesnkvbCzJLS"
      },
      "outputs": [],
      "source": [
        "## Function Description for the Function Calling API\n",
        "\n",
        "function_descriptions = [\n",
        "            {\n",
        "                \"name\": \"compare_laptops_with_user\",\n",
        "                \"description\": \"Get the top 3 laptops from the catalogue, that best matches what the user is asking based on 'GPU intensity','Display quality','Portability','Multitasking','Processing speed' & 'Budget\",\n",
        "                \"parameters\": {\n",
        "                    \"type\": \"object\",\n",
        "                    \"properties\": {\n",
        "                        \"gpu intensity\": {\n",
        "                            \"type\": \"string\",\n",
        "                            \"description\": \"The requirement of the user in GPU capacity classfied as low, medium or high\" ,\n",
        "                        },\n",
        "                        \"display quality\": {\n",
        "                            \"type\": \"string\",\n",
        "                            \"description\": \"The requirement of the user for Laptop's Display Quality & capacity classfied as low, medium or high\" ,\n",
        "                        },\n",
        "                        \"portability\": {\n",
        "                            \"type\": \"string\",\n",
        "                            \"description\": \"The requirement of the user for Laptop's portability classfied as low, medium or high\" ,\n",
        "                        },\n",
        "                        \"multitasking\": {\n",
        "                            \"type\": \"string\",\n",
        "                            \"description\": \"The requirement of the user for Laptop's Multitasking classfied as low, medium or high\" ,\n",
        "                        },\n",
        "                        \"processing speed\": {\n",
        "                            \"type\": \"string\",\n",
        "                            \"description\": \"The requirement of the user for Laptop's Processing speed classfied as low, medium or high\" ,\n",
        "                        },\n",
        "                        \"budget\": {\n",
        "                            \"type\": \"integer\",\n",
        "                            \"description\": \"The maximum budget of the user\" ,\n",
        "                        },\n",
        "\n",
        "                    },\n",
        "                    \"required\": [\"GPU intensity\",\"Display quality\",\"Portability\",\"Multitasking\",\"Processing speed\",\"Budget\"],\n",
        "                },\n",
        "            }\n",
        "        ]"
      ]
    },
    {
      "cell_type": "code",
      "execution_count": 3,
      "metadata": {
        "id": "9ZtYd9Sj6PJP"
      },
      "outputs": [],
      "source": [
        "def initialize_conversation():\n",
        "    delimiter = \"####\"\n",
        "\n",
        "    system_message = f\"\"\"\n",
        "    You are an intelligent laptop gadget expert and your goal is to find the best laptop for a user.\n",
        "    You are trying to understand the user's requirement for these laptop's features: ('gpu intensity','display quality','portability','multitasking','processing speed','budget')\n",
        "    You need to ask relevant questions and understand the user need for each feature by analysing the user's responses.\n",
        "    After understanding their requirements, you'll use a function call to suggest the top 3 laptops with their respective user match score.\n",
        "    Recommend these laptops and answer any user's query about them.\n",
        "\n",
        "    {delimiter} Here are certain guidelines that you need to follow:\n",
        "    Don't ask questions about more than 2 features at a time.\n",
        "    If the user's budget is less than says less than 25000 INR, please mention that there are no laptops in that range.\n",
        "    Recommend the top3 laptops in the following format:\n",
        "    Start with a brief summary of each laptop in the following format, in decreasing order of price of laptops:\n",
        "    1. <Laptop Name> : <Major specifications of the laptop>, <Price in Rs>\n",
        "    2. <Laptop Name> : <Major specifications of the laptop>, <Price in Rs>\n",
        "    3. <Laptop Name> : <Major specifications of the laptop>, <Price in Rs>\n",
        "    {delimiter}\n",
        "\n",
        "    {delimiter}To find the top3 laptops, you need to have the following chain of thoughts:\n",
        "    Thought 1: Ask one question to understand the user's profile and requirements. \\n\n",
        "    If their primary use for the laptop is unclear. Ask another question to comprehend their needs.\n",
        "    Answer \"Yes\" or \"No\" to indicate if you understand the requirements. \\n\n",
        "    If yes, proceed to the next step. Otherwise, rephrase the question to capture their profile. \\n\n",
        "\n",
        "    Thought 2: Now, you are trying to understand the requirements for other features which you couldn't in the previous step.\n",
        "    Ask questions to strengthen your understanding of the user's profile.\n",
        "    Don't ask questions about more than 2 features at a time.\n",
        "    Answer \"Yes\" or \"No\" to indicate if you understood all the needs of the features and are confident about the same.\n",
        "    If yes, move to the next Thought. If no, ask question on the features whose needs you are unsure of. \\n\n",
        "    It is a good practice to ask question with a sound logic as opposed to directly citing the feature you want to understand the need for.{delimiter}\n",
        "    {delimiter}\n",
        "\n",
        "    {delimiter} Here is a sample conversation between the user and assistant:\n",
        "    Assistant: \"Hello! I'm here to help you find the perfect laptop that suits your needs. Could you please share your requirements?\"\n",
        "    User: \"Hi, I am an editor.\"\n",
        "    Assistant: \"Great! As an editor, you likely require a laptop that can handle demanding tasks. Hence, the laptop should have high multitasking capability. You would also need a high end display for better visuals and editing. May I know what kind of work do you primarily focus on? Are you more involved in video editing, photo editing, or both? Understanding the specific type of editing work will help me tailor my recommendations accordingly. Let me know if my understanding is correct until now.\"\n",
        "    User: \"I primarily work with After Effects.\"\n",
        "    Assistant: \"Thank you for providing that information. Working with After Effects involves working with graphics, animations, and rendering, which will require high GPU. Do you work with high-resolution media files, such as 4K videos or RAW photos? Understanding your file sizes will help determine the storage capacity and processing power needed.\"\n",
        "    User: \"Yes, sometimes I work with 4K videos as well.\"\n",
        "    Assistant: \"Thank you for the information. Processing 4K vidoes will require a good processor and high GPU. I think we have already determined earlier that you need a high GPU. To ensure I have a complete understanding of your needs, I have one more question: Are you frequently on the go and require a laptop that is lightweight and easy to carry, or do you primarily work from a stationary location?\"\n",
        "    User: \"Yes, sometimes I travel but do not carry my laptop.\"\n",
        "    Assistant:\"Could you kindly let me know your budget for the laptop? This will help me find options that fit within your price range while meeting the specified requirements.\"\n",
        "    User: \"my max budget is 1.5lakh inr\"\n",
        "    {delimiter}\n",
        "\n",
        "\n",
        "    Start with a short welcome message and encourage the user to share their requirements.\n",
        "    \"\"\"\n",
        "    conversation = [{\"role\": \"system\", \"content\": system_message }]\n",
        "    return conversation"
      ]
    },
    {
      "cell_type": "code",
      "execution_count": 4,
      "metadata": {
        "id": "ZFVCMMSz6GKj"
      },
      "outputs": [],
      "source": [
        "def get_chat_model_completions(messages):\n",
        "    response = openai.chat.completions.create(\n",
        "        model=\"gpt-3.5-turbo\",\n",
        "        messages=messages,\n",
        "        temperature=0, # this is the degree of randomness of the model's output\n",
        "        max_tokens = 500,\n",
        "\n",
        "        functions=function_descriptions,\n",
        "        function_call=\"auto\",\n",
        "    )\n",
        "    return"
      ]
    },
    {
      "cell_type": "code",
      "source": [
        "user_query =\"I want a codeing laptop, GPU  is high,high multitaking availability\"\n",
        "conversation = initialize_conversation()\n",
        "conversation.append({\"role\": \"user\", \"content\": user_query})\n",
        "response_assistant = get_chat_model_completions(conversation)\n",
        "print(response_assistant.content)\n",
        "\n",
        "user_query="
      ],
      "metadata": {
        "colab": {
          "base_uri": "https://localhost:8080/"
        },
        "id": "mp1qbI-bN3xn",
        "outputId": "da008975-76e2-4e7b-8b4b-acc801892edd"
      },
      "execution_count": 29,
      "outputs": [
        {
          "output_type": "stream",
          "name": "stdout",
          "text": [
            "Great! As a coder, you likely require a laptop with a high GPU for coding tasks and high multitasking capability to handle multiple applications simultaneously. Let me confirm my understanding: You need a laptop with a high GPU intensity and high multitasking capability. Is that correct?\n"
          ]
        }
      ]
    },
    {
      "cell_type": "code",
      "source": [],
      "metadata": {
        "id": "_5doXa0gN_n2"
      },
      "execution_count": null,
      "outputs": []
    },
    {
      "cell_type": "code",
      "execution_count": 32,
      "metadata": {
        "id": "W13nBUM_nv-M"
      },
      "outputs": [],
      "source": [
        "import pandas as pd\n",
        "import ast\n",
        "import re\n",
        "\n",
        "def extract_dictionary_from_string(string):\n",
        "    regex_pattern = r\"\\{[^{}]+\\}\"\n",
        "\n",
        "    dictionary_matches = re.findall(regex_pattern, string)\n",
        "\n",
        "    # Extract the first dictionary match and convert it to lowercase\n",
        "    if dictionary_matches:\n",
        "        dictionary_string = dictionary_matches[0]\n",
        "        dictionary_string = dictionary_string.lower()\n",
        "\n",
        "        # Convert the dictionary string to a dictionary object using ast.literal_eval()\n",
        "        dictionary = ast.literal_eval(dictionary_string)\n",
        "    return dictionary\n",
        "\n",
        "def compare_laptops_with_user(user_req_string):\n",
        "  budget = user_req_string.get('budget', '0')\n",
        "  laptop_df= pd.read_csv('updated_laptop.csv')\n",
        "  filtered_laptops = laptop_df.copy()\n",
        "  filtered_laptops['Price'] = filtered_laptops['Price'].str.replace(',','').astype(int)\n",
        "  filtered_laptops = filtered_laptops[filtered_laptops['Price'] <= budget].copy()\n",
        "\n",
        "  mappings = {\n",
        "          'low': 0,\n",
        "          'medium': 1,\n",
        "          'high': 2\n",
        "      }\n",
        "  # Create 'Score' column in the DataFrame and initialize to 0\n",
        "  filtered_laptops['Score'] = 0\n",
        "  for index, row in filtered_laptops.iterrows():\n",
        "      user_product_match_str = row['laptop_feature']\n",
        "      laptop_values = extract_dictionary_from_string(user_product_match_str)\n",
        "      score = 0\n",
        "\n",
        "      for key, user_value in user_req_string.items():\n",
        "        if key.lower() == 'budget':\n",
        "            continue  # Skip budget comparison\n",
        "        laptop_value = laptop_values.get(key, None)\n",
        "        laptop_mapping = mappings.get(laptop_value.lower(), -1)\n",
        "        user_mapping = mappings.get(user_value.lower(), -1)\n",
        "        if laptop_mapping >= user_mapping:\n",
        "          ### If the laptop value is greater than or equal to the user value the score is incremented by 1\n",
        "          score += 1\n",
        "\n",
        "      filtered_laptops.loc[index, 'Score'] = score\n",
        "\n",
        "  # Sort the laptops by score in descending order and return the top 5 products\n",
        "  top_laptops = filtered_laptops.drop('laptop_feature', axis=1)\n",
        "  top_laptops = top_laptops.sort_values('Score', ascending=False).head(3)\n",
        "\n",
        "  return top_laptops.to_json(orient='records')\n",
        "\n",
        "def recommendation_validation(laptop_recommendation):\n",
        "\n",
        "    data = json.loads(laptop_recommendation)\n",
        "    data1 = []\n",
        "    for i in range(len(data)):\n",
        "      if data[i]['Score'] > 2:\n",
        "        data1.append(data[i])\n",
        "\n",
        "    return json.dumps(data1)"
      ]
    },
    {
      "cell_type": "raw",
      "metadata": {
        "id": "_yf66gLEP5cj"
      },
      "source": [
        "get_chat_model_completions([{\"role\": \"user\", \"content\": \"Hi How are you?\"}]).function_call"
      ]
    },
    {
      "cell_type": "code",
      "execution_count": 31,
      "metadata": {
        "id": "XZVtOt4Cmuuw"
      },
      "outputs": [],
      "source": [
        "def dialogue_mgmt_system():\n",
        "    conversation = initialize_conversation()\n",
        "    introduction = get_chat_model_completions(conversation).content\n",
        "    print(introduction + '\\n')\n",
        "    user_input = \"\"\n",
        "    while(user_input != \"exit\"):\n",
        "      user_input = input(\"\")\n",
        "      conversation.append({\"role\": \"user\", \"content\": user_input})\n",
        "      # Step 1: Pass the user input to GPT\n",
        "      response_assistant = get_chat_model_completions(conversation)\n",
        "      if response_assistant.function_call:\n",
        "        print(\"\\nThank you for providing all the information. Kindly wait, while I fetch the products\\n\")\n",
        "        # Step 2: Extract top3 laptops by calling the external function\n",
        "        function_name = response_assistant.function_call.name\n",
        "        function_args = json.loads(response_assistant.function_call.arguments)\n",
        "        print(f\"User requirement: {function_args}\")\n",
        "        top_3_laptops = compare_laptops_with_user(function_args)\n",
        "        function_response = recommendation_validation(top_3_laptops)\n",
        "        if len(function_response) == 0:\n",
        "          print(\"Sorry, we do not have laptops that match your requirements. Connecting you to a human expert.\")\n",
        "          break\n",
        "        # Step 3: send the info on the function call and function response to GPT\n",
        "        conversation.append(response_assistant)\n",
        "        conversation.append(\n",
        "            {\n",
        "                \"role\": \"function\",\n",
        "                \"name\": function_name,\n",
        "                \"content\": function_response,\n",
        "            }\n",
        "        )\n",
        "        recommendation = get_chat_model_completions(conversation)\n",
        "        conversation.append({\"role\": \"assistant\", \"content\": recommendation.content})\n",
        "        print(\"\\n\" +recommendation.content + \"\\n\")\n",
        "      else:\n",
        "        conversation.append({\"role\": \"assistant\", \"content\": response_assistant.content})\n",
        "        print(\"\\n\" +  response_assistant.content + \"\\n\")\n"
      ]
    },
    {
      "cell_type": "code",
      "execution_count": 28,
      "metadata": {
        "colab": {
          "base_uri": "https://localhost:8080/",
          "height": 309
        },
        "id": "8qXMi3sZP5cl",
        "outputId": "5689c000-5c46-48d1-b50c-3c791e663960"
      },
      "outputs": [
        {
          "output_type": "stream",
          "name": "stdout",
          "text": [
            "Hello! I'm here to help you find the perfect laptop that suits your needs. Could you please share your requirements?\n",
            "\n"
          ]
        },
        {
          "output_type": "error",
          "ename": "TypeError",
          "evalue": "'str' object is not callable",
          "traceback": [
            "\u001b[0;31m---------------------------------------------------------------------------\u001b[0m",
            "\u001b[0;31mTypeError\u001b[0m                                 Traceback (most recent call last)",
            "\u001b[0;32m/tmp/ipython-input-3339482843.py\u001b[0m in \u001b[0;36m<cell line: 0>\u001b[0;34m()\u001b[0m\n\u001b[0;32m----> 1\u001b[0;31m \u001b[0mdialogue_mgmt_system\u001b[0m\u001b[0;34m(\u001b[0m\u001b[0;34m)\u001b[0m\u001b[0;34m\u001b[0m\u001b[0;34m\u001b[0m\u001b[0m\n\u001b[0m",
            "\u001b[0;32m/tmp/ipython-input-3606372563.py\u001b[0m in \u001b[0;36mdialogue_mgmt_system\u001b[0;34m()\u001b[0m\n\u001b[1;32m      5\u001b[0m     \u001b[0muser_input\u001b[0m \u001b[0;34m=\u001b[0m \u001b[0;34m\"\"\u001b[0m\u001b[0;34m\u001b[0m\u001b[0;34m\u001b[0m\u001b[0m\n\u001b[1;32m      6\u001b[0m     \u001b[0;32mwhile\u001b[0m\u001b[0;34m(\u001b[0m\u001b[0muser_input\u001b[0m \u001b[0;34m!=\u001b[0m \u001b[0;34m\"exit\"\u001b[0m\u001b[0;34m)\u001b[0m\u001b[0;34m:\u001b[0m\u001b[0;34m\u001b[0m\u001b[0;34m\u001b[0m\u001b[0m\n\u001b[0;32m----> 7\u001b[0;31m       \u001b[0muser_input\u001b[0m \u001b[0;34m=\u001b[0m \u001b[0minput\u001b[0m\u001b[0;34m(\u001b[0m\u001b[0;34m\"\"\u001b[0m\u001b[0;34m)\u001b[0m\u001b[0;34m\u001b[0m\u001b[0;34m\u001b[0m\u001b[0m\n\u001b[0m\u001b[1;32m      8\u001b[0m       \u001b[0mconversation\u001b[0m\u001b[0;34m.\u001b[0m\u001b[0mappend\u001b[0m\u001b[0;34m(\u001b[0m\u001b[0;34m{\u001b[0m\u001b[0;34m\"role\"\u001b[0m\u001b[0;34m:\u001b[0m \u001b[0;34m\"user\"\u001b[0m\u001b[0;34m,\u001b[0m \u001b[0;34m\"content\"\u001b[0m\u001b[0;34m:\u001b[0m \u001b[0muser_input\u001b[0m\u001b[0;34m}\u001b[0m\u001b[0;34m)\u001b[0m\u001b[0;34m\u001b[0m\u001b[0;34m\u001b[0m\u001b[0m\n\u001b[1;32m      9\u001b[0m       \u001b[0;31m# Step 1: Pass the user input to GPT\u001b[0m\u001b[0;34m\u001b[0m\u001b[0;34m\u001b[0m\u001b[0m\n",
            "\u001b[0;31mTypeError\u001b[0m: 'str' object is not callable"
          ]
        }
      ],
      "source": [
        "dialogue_mgmt_system()"
      ]
    },
    {
      "cell_type": "code",
      "source": [
        "from google.colab import drive\n",
        "drive.mount('/content/drive')"
      ],
      "metadata": {
        "id": "s9ig5LhcRu8K"
      },
      "execution_count": null,
      "outputs": []
    },
    {
      "cell_type": "code",
      "execution_count": 26,
      "metadata": {
        "colab": {
          "base_uri": "https://localhost:8080/",
          "height": 309
        },
        "id": "36JONCjiP5cl",
        "outputId": "c12988e9-8819-4898-ee6e-a0bdff6b7397"
      },
      "outputs": [
        {
          "output_type": "stream",
          "name": "stdout",
          "text": [
            "Hello! I'm here to help you find the perfect laptop that suits your needs. Could you please share your requirements?\n",
            "\n"
          ]
        },
        {
          "output_type": "error",
          "ename": "TypeError",
          "evalue": "'str' object is not callable",
          "traceback": [
            "\u001b[0;31m---------------------------------------------------------------------------\u001b[0m",
            "\u001b[0;31mTypeError\u001b[0m                                 Traceback (most recent call last)",
            "\u001b[0;32m/tmp/ipython-input-3339482843.py\u001b[0m in \u001b[0;36m<cell line: 0>\u001b[0;34m()\u001b[0m\n\u001b[0;32m----> 1\u001b[0;31m \u001b[0mdialogue_mgmt_system\u001b[0m\u001b[0;34m(\u001b[0m\u001b[0;34m)\u001b[0m\u001b[0;34m\u001b[0m\u001b[0;34m\u001b[0m\u001b[0m\n\u001b[0m",
            "\u001b[0;32m/tmp/ipython-input-3606372563.py\u001b[0m in \u001b[0;36mdialogue_mgmt_system\u001b[0;34m()\u001b[0m\n\u001b[1;32m      5\u001b[0m     \u001b[0muser_input\u001b[0m \u001b[0;34m=\u001b[0m \u001b[0;34m\"\"\u001b[0m\u001b[0;34m\u001b[0m\u001b[0;34m\u001b[0m\u001b[0m\n\u001b[1;32m      6\u001b[0m     \u001b[0;32mwhile\u001b[0m\u001b[0;34m(\u001b[0m\u001b[0muser_input\u001b[0m \u001b[0;34m!=\u001b[0m \u001b[0;34m\"exit\"\u001b[0m\u001b[0;34m)\u001b[0m\u001b[0;34m:\u001b[0m\u001b[0;34m\u001b[0m\u001b[0;34m\u001b[0m\u001b[0m\n\u001b[0;32m----> 7\u001b[0;31m       \u001b[0muser_input\u001b[0m \u001b[0;34m=\u001b[0m \u001b[0minput\u001b[0m\u001b[0;34m(\u001b[0m\u001b[0;34m\"\"\u001b[0m\u001b[0;34m)\u001b[0m\u001b[0;34m\u001b[0m\u001b[0;34m\u001b[0m\u001b[0m\n\u001b[0m\u001b[1;32m      8\u001b[0m       \u001b[0mconversation\u001b[0m\u001b[0;34m.\u001b[0m\u001b[0mappend\u001b[0m\u001b[0;34m(\u001b[0m\u001b[0;34m{\u001b[0m\u001b[0;34m\"role\"\u001b[0m\u001b[0;34m:\u001b[0m \u001b[0;34m\"user\"\u001b[0m\u001b[0;34m,\u001b[0m \u001b[0;34m\"content\"\u001b[0m\u001b[0;34m:\u001b[0m \u001b[0muser_input\u001b[0m\u001b[0;34m}\u001b[0m\u001b[0;34m)\u001b[0m\u001b[0;34m\u001b[0m\u001b[0;34m\u001b[0m\u001b[0m\n\u001b[1;32m      9\u001b[0m       \u001b[0;31m# Step 1: Pass the user input to GPT\u001b[0m\u001b[0;34m\u001b[0m\u001b[0;34m\u001b[0m\u001b[0m\n",
            "\u001b[0;31mTypeError\u001b[0m: 'str' object is not callable"
          ]
        }
      ],
      "source": [
        "dialogue_mgmt_system()"
      ]
    },
    {
      "cell_type": "code",
      "execution_count": null,
      "metadata": {
        "id": "1ayIzUZvpURv"
      },
      "outputs": [],
      "source": [
        "dialogue_mgmt_system()"
      ]
    },
    {
      "cell_type": "code",
      "source": [],
      "metadata": {
        "id": "D17YKMqQRJOr"
      },
      "execution_count": null,
      "outputs": []
    }
  ],
  "metadata": {
    "colab": {
      "provenance": [],
      "include_colab_link": true
    },
    "kernelspec": {
      "display_name": "Python 3 (ipykernel)",
      "language": "python",
      "name": "python3"
    },
    "language_info": {
      "codemirror_mode": {
        "name": "ipython",
        "version": 3
      },
      "file_extension": ".py",
      "mimetype": "text/x-python",
      "name": "python",
      "nbconvert_exporter": "python",
      "pygments_lexer": "ipython3",
      "version": "3.9.20"
    }
  },
  "nbformat": 4,
  "nbformat_minor": 0
}