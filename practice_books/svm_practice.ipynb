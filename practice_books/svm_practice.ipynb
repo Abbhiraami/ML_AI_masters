{
 "cells": [
  {
   "cell_type": "markdown",
   "id": "c49a5d74-9ac3-410e-b101-949027e887e2",
   "metadata": {},
   "source": [
    "### Working on a problem statement on Support Vector Machine (SVM)"
   ]
  },
  {
   "cell_type": "code",
   "execution_count": 1,
   "id": "856e649d-9163-443f-9975-50d2a1144b5b",
   "metadata": {
    "tags": []
   },
   "outputs": [],
   "source": [
    "### Importing libraries\n",
    "import numpy as np\n",
    "import pandas as pd\n",
    "import IPython.display\n",
    "\n",
    "### Visualization\n",
    "import seaborn as sns\n",
    "import matplotlib.pyplot as pp\n",
    "\n",
    "### Model Building packages\n",
    "from sklearn.linear_model import LinearRegression, LogisticRegression\n",
    "from sklearn.svm import SVC\n",
    "from sklearn.preprocessing import MinMaxScaler, scale\n",
    "from sklearn.model_selection import train_test_split, cross_val_score, KFold, GridSearchCV\n",
    "from sklearn.metrics import accuracy_score, recall_score, precision_score,confusion_matrix"
   ]
  },
  {
   "cell_type": "code",
   "execution_count": 2,
   "id": "4e04a483-b32e-4d04-98f3-44d1d84d874c",
   "metadata": {
    "tags": []
   },
   "outputs": [
    {
     "data": {
      "text/html": [
       "<div>\n",
       "<style scoped>\n",
       "    .dataframe tbody tr th:only-of-type {\n",
       "        vertical-align: middle;\n",
       "    }\n",
       "\n",
       "    .dataframe tbody tr th {\n",
       "        vertical-align: top;\n",
       "    }\n",
       "\n",
       "    .dataframe thead th {\n",
       "        text-align: right;\n",
       "    }\n",
       "</style>\n",
       "<table border=\"1\" class=\"dataframe\">\n",
       "  <thead>\n",
       "    <tr style=\"text-align: right;\">\n",
       "      <th></th>\n",
       "      <th>word_freq_make</th>\n",
       "      <th>word_freq_address</th>\n",
       "      <th>word_freq_all</th>\n",
       "      <th>word_freq_3d</th>\n",
       "      <th>word_freq_our</th>\n",
       "      <th>word_freq_over</th>\n",
       "      <th>word_freq_remove</th>\n",
       "      <th>word_freq_internet</th>\n",
       "      <th>word_freq_order</th>\n",
       "      <th>word_freq_mail</th>\n",
       "      <th>...</th>\n",
       "      <th>char_freq_;</th>\n",
       "      <th>char_freq_(</th>\n",
       "      <th>char_freq_[</th>\n",
       "      <th>char_freq_!</th>\n",
       "      <th>char_freq_$</th>\n",
       "      <th>char_freq_hash</th>\n",
       "      <th>capital_run_length_average</th>\n",
       "      <th>capital_run_length_longest</th>\n",
       "      <th>capital_run_length_total</th>\n",
       "      <th>spam</th>\n",
       "    </tr>\n",
       "  </thead>\n",
       "  <tbody>\n",
       "    <tr>\n",
       "      <th>0</th>\n",
       "      <td>0.00</td>\n",
       "      <td>0.64</td>\n",
       "      <td>0.64</td>\n",
       "      <td>0.0</td>\n",
       "      <td>0.32</td>\n",
       "      <td>0.00</td>\n",
       "      <td>0.00</td>\n",
       "      <td>0.00</td>\n",
       "      <td>0.00</td>\n",
       "      <td>0.00</td>\n",
       "      <td>...</td>\n",
       "      <td>0.00</td>\n",
       "      <td>0.000</td>\n",
       "      <td>0.0</td>\n",
       "      <td>0.778</td>\n",
       "      <td>0.000</td>\n",
       "      <td>0.000</td>\n",
       "      <td>3.756</td>\n",
       "      <td>61</td>\n",
       "      <td>278</td>\n",
       "      <td>1</td>\n",
       "    </tr>\n",
       "    <tr>\n",
       "      <th>1</th>\n",
       "      <td>0.21</td>\n",
       "      <td>0.28</td>\n",
       "      <td>0.50</td>\n",
       "      <td>0.0</td>\n",
       "      <td>0.14</td>\n",
       "      <td>0.28</td>\n",
       "      <td>0.21</td>\n",
       "      <td>0.07</td>\n",
       "      <td>0.00</td>\n",
       "      <td>0.94</td>\n",
       "      <td>...</td>\n",
       "      <td>0.00</td>\n",
       "      <td>0.132</td>\n",
       "      <td>0.0</td>\n",
       "      <td>0.372</td>\n",
       "      <td>0.180</td>\n",
       "      <td>0.048</td>\n",
       "      <td>5.114</td>\n",
       "      <td>101</td>\n",
       "      <td>1028</td>\n",
       "      <td>1</td>\n",
       "    </tr>\n",
       "    <tr>\n",
       "      <th>2</th>\n",
       "      <td>0.06</td>\n",
       "      <td>0.00</td>\n",
       "      <td>0.71</td>\n",
       "      <td>0.0</td>\n",
       "      <td>1.23</td>\n",
       "      <td>0.19</td>\n",
       "      <td>0.19</td>\n",
       "      <td>0.12</td>\n",
       "      <td>0.64</td>\n",
       "      <td>0.25</td>\n",
       "      <td>...</td>\n",
       "      <td>0.01</td>\n",
       "      <td>0.143</td>\n",
       "      <td>0.0</td>\n",
       "      <td>0.276</td>\n",
       "      <td>0.184</td>\n",
       "      <td>0.010</td>\n",
       "      <td>9.821</td>\n",
       "      <td>485</td>\n",
       "      <td>2259</td>\n",
       "      <td>1</td>\n",
       "    </tr>\n",
       "    <tr>\n",
       "      <th>3</th>\n",
       "      <td>0.00</td>\n",
       "      <td>0.00</td>\n",
       "      <td>0.00</td>\n",
       "      <td>0.0</td>\n",
       "      <td>0.63</td>\n",
       "      <td>0.00</td>\n",
       "      <td>0.31</td>\n",
       "      <td>0.63</td>\n",
       "      <td>0.31</td>\n",
       "      <td>0.63</td>\n",
       "      <td>...</td>\n",
       "      <td>0.00</td>\n",
       "      <td>0.137</td>\n",
       "      <td>0.0</td>\n",
       "      <td>0.137</td>\n",
       "      <td>0.000</td>\n",
       "      <td>0.000</td>\n",
       "      <td>3.537</td>\n",
       "      <td>40</td>\n",
       "      <td>191</td>\n",
       "      <td>1</td>\n",
       "    </tr>\n",
       "    <tr>\n",
       "      <th>4</th>\n",
       "      <td>0.00</td>\n",
       "      <td>0.00</td>\n",
       "      <td>0.00</td>\n",
       "      <td>0.0</td>\n",
       "      <td>0.63</td>\n",
       "      <td>0.00</td>\n",
       "      <td>0.31</td>\n",
       "      <td>0.63</td>\n",
       "      <td>0.31</td>\n",
       "      <td>0.63</td>\n",
       "      <td>...</td>\n",
       "      <td>0.00</td>\n",
       "      <td>0.135</td>\n",
       "      <td>0.0</td>\n",
       "      <td>0.135</td>\n",
       "      <td>0.000</td>\n",
       "      <td>0.000</td>\n",
       "      <td>3.537</td>\n",
       "      <td>40</td>\n",
       "      <td>191</td>\n",
       "      <td>1</td>\n",
       "    </tr>\n",
       "    <tr>\n",
       "      <th>5</th>\n",
       "      <td>0.00</td>\n",
       "      <td>0.00</td>\n",
       "      <td>0.00</td>\n",
       "      <td>0.0</td>\n",
       "      <td>1.85</td>\n",
       "      <td>0.00</td>\n",
       "      <td>0.00</td>\n",
       "      <td>1.85</td>\n",
       "      <td>0.00</td>\n",
       "      <td>0.00</td>\n",
       "      <td>...</td>\n",
       "      <td>0.00</td>\n",
       "      <td>0.223</td>\n",
       "      <td>0.0</td>\n",
       "      <td>0.000</td>\n",
       "      <td>0.000</td>\n",
       "      <td>0.000</td>\n",
       "      <td>3.000</td>\n",
       "      <td>15</td>\n",
       "      <td>54</td>\n",
       "      <td>1</td>\n",
       "    </tr>\n",
       "    <tr>\n",
       "      <th>6</th>\n",
       "      <td>0.00</td>\n",
       "      <td>0.00</td>\n",
       "      <td>0.00</td>\n",
       "      <td>0.0</td>\n",
       "      <td>1.92</td>\n",
       "      <td>0.00</td>\n",
       "      <td>0.00</td>\n",
       "      <td>0.00</td>\n",
       "      <td>0.00</td>\n",
       "      <td>0.64</td>\n",
       "      <td>...</td>\n",
       "      <td>0.00</td>\n",
       "      <td>0.054</td>\n",
       "      <td>0.0</td>\n",
       "      <td>0.164</td>\n",
       "      <td>0.054</td>\n",
       "      <td>0.000</td>\n",
       "      <td>1.671</td>\n",
       "      <td>4</td>\n",
       "      <td>112</td>\n",
       "      <td>1</td>\n",
       "    </tr>\n",
       "    <tr>\n",
       "      <th>7</th>\n",
       "      <td>0.00</td>\n",
       "      <td>0.00</td>\n",
       "      <td>0.00</td>\n",
       "      <td>0.0</td>\n",
       "      <td>1.88</td>\n",
       "      <td>0.00</td>\n",
       "      <td>0.00</td>\n",
       "      <td>1.88</td>\n",
       "      <td>0.00</td>\n",
       "      <td>0.00</td>\n",
       "      <td>...</td>\n",
       "      <td>0.00</td>\n",
       "      <td>0.206</td>\n",
       "      <td>0.0</td>\n",
       "      <td>0.000</td>\n",
       "      <td>0.000</td>\n",
       "      <td>0.000</td>\n",
       "      <td>2.450</td>\n",
       "      <td>11</td>\n",
       "      <td>49</td>\n",
       "      <td>1</td>\n",
       "    </tr>\n",
       "    <tr>\n",
       "      <th>8</th>\n",
       "      <td>0.15</td>\n",
       "      <td>0.00</td>\n",
       "      <td>0.46</td>\n",
       "      <td>0.0</td>\n",
       "      <td>0.61</td>\n",
       "      <td>0.00</td>\n",
       "      <td>0.30</td>\n",
       "      <td>0.00</td>\n",
       "      <td>0.92</td>\n",
       "      <td>0.76</td>\n",
       "      <td>...</td>\n",
       "      <td>0.00</td>\n",
       "      <td>0.271</td>\n",
       "      <td>0.0</td>\n",
       "      <td>0.181</td>\n",
       "      <td>0.203</td>\n",
       "      <td>0.022</td>\n",
       "      <td>9.744</td>\n",
       "      <td>445</td>\n",
       "      <td>1257</td>\n",
       "      <td>1</td>\n",
       "    </tr>\n",
       "    <tr>\n",
       "      <th>9</th>\n",
       "      <td>0.06</td>\n",
       "      <td>0.12</td>\n",
       "      <td>0.77</td>\n",
       "      <td>0.0</td>\n",
       "      <td>0.19</td>\n",
       "      <td>0.32</td>\n",
       "      <td>0.38</td>\n",
       "      <td>0.00</td>\n",
       "      <td>0.06</td>\n",
       "      <td>0.00</td>\n",
       "      <td>...</td>\n",
       "      <td>0.04</td>\n",
       "      <td>0.030</td>\n",
       "      <td>0.0</td>\n",
       "      <td>0.244</td>\n",
       "      <td>0.081</td>\n",
       "      <td>0.000</td>\n",
       "      <td>1.729</td>\n",
       "      <td>43</td>\n",
       "      <td>749</td>\n",
       "      <td>1</td>\n",
       "    </tr>\n",
       "  </tbody>\n",
       "</table>\n",
       "<p>10 rows × 58 columns</p>\n",
       "</div>"
      ],
      "text/plain": [
       "   word_freq_make  word_freq_address  word_freq_all  word_freq_3d  \\\n",
       "0            0.00               0.64           0.64           0.0   \n",
       "1            0.21               0.28           0.50           0.0   \n",
       "2            0.06               0.00           0.71           0.0   \n",
       "3            0.00               0.00           0.00           0.0   \n",
       "4            0.00               0.00           0.00           0.0   \n",
       "5            0.00               0.00           0.00           0.0   \n",
       "6            0.00               0.00           0.00           0.0   \n",
       "7            0.00               0.00           0.00           0.0   \n",
       "8            0.15               0.00           0.46           0.0   \n",
       "9            0.06               0.12           0.77           0.0   \n",
       "\n",
       "   word_freq_our  word_freq_over  word_freq_remove  word_freq_internet  \\\n",
       "0           0.32            0.00              0.00                0.00   \n",
       "1           0.14            0.28              0.21                0.07   \n",
       "2           1.23            0.19              0.19                0.12   \n",
       "3           0.63            0.00              0.31                0.63   \n",
       "4           0.63            0.00              0.31                0.63   \n",
       "5           1.85            0.00              0.00                1.85   \n",
       "6           1.92            0.00              0.00                0.00   \n",
       "7           1.88            0.00              0.00                1.88   \n",
       "8           0.61            0.00              0.30                0.00   \n",
       "9           0.19            0.32              0.38                0.00   \n",
       "\n",
       "   word_freq_order  word_freq_mail  ...  char_freq_;  char_freq_(  \\\n",
       "0             0.00            0.00  ...         0.00        0.000   \n",
       "1             0.00            0.94  ...         0.00        0.132   \n",
       "2             0.64            0.25  ...         0.01        0.143   \n",
       "3             0.31            0.63  ...         0.00        0.137   \n",
       "4             0.31            0.63  ...         0.00        0.135   \n",
       "5             0.00            0.00  ...         0.00        0.223   \n",
       "6             0.00            0.64  ...         0.00        0.054   \n",
       "7             0.00            0.00  ...         0.00        0.206   \n",
       "8             0.92            0.76  ...         0.00        0.271   \n",
       "9             0.06            0.00  ...         0.04        0.030   \n",
       "\n",
       "   char_freq_[  char_freq_!  char_freq_$  char_freq_hash  \\\n",
       "0          0.0        0.778        0.000           0.000   \n",
       "1          0.0        0.372        0.180           0.048   \n",
       "2          0.0        0.276        0.184           0.010   \n",
       "3          0.0        0.137        0.000           0.000   \n",
       "4          0.0        0.135        0.000           0.000   \n",
       "5          0.0        0.000        0.000           0.000   \n",
       "6          0.0        0.164        0.054           0.000   \n",
       "7          0.0        0.000        0.000           0.000   \n",
       "8          0.0        0.181        0.203           0.022   \n",
       "9          0.0        0.244        0.081           0.000   \n",
       "\n",
       "   capital_run_length_average  capital_run_length_longest  \\\n",
       "0                       3.756                          61   \n",
       "1                       5.114                         101   \n",
       "2                       9.821                         485   \n",
       "3                       3.537                          40   \n",
       "4                       3.537                          40   \n",
       "5                       3.000                          15   \n",
       "6                       1.671                           4   \n",
       "7                       2.450                          11   \n",
       "8                       9.744                         445   \n",
       "9                       1.729                          43   \n",
       "\n",
       "   capital_run_length_total  spam  \n",
       "0                       278     1  \n",
       "1                      1028     1  \n",
       "2                      2259     1  \n",
       "3                       191     1  \n",
       "4                       191     1  \n",
       "5                        54     1  \n",
       "6                       112     1  \n",
       "7                        49     1  \n",
       "8                      1257     1  \n",
       "9                       749     1  \n",
       "\n",
       "[10 rows x 58 columns]"
      ]
     },
     "metadata": {},
     "output_type": "display_data"
    },
    {
     "data": {
      "text/plain": [
       "(4601, 58)"
      ]
     },
     "metadata": {},
     "output_type": "display_data"
    },
    {
     "data": {
      "text/plain": [
       "word_freq_make                0\n",
       "word_freq_address             0\n",
       "word_freq_all                 0\n",
       "word_freq_3d                  0\n",
       "word_freq_our                 0\n",
       "word_freq_over                0\n",
       "word_freq_remove              0\n",
       "word_freq_internet            0\n",
       "word_freq_order               0\n",
       "word_freq_mail                0\n",
       "word_freq_receive             0\n",
       "word_freq_will                0\n",
       "word_freq_people              0\n",
       "word_freq_report              0\n",
       "word_freq_addresses           0\n",
       "word_freq_free                0\n",
       "word_freq_business            0\n",
       "word_freq_email               0\n",
       "word_freq_you                 0\n",
       "word_freq_credit              0\n",
       "word_freq_your                0\n",
       "word_freq_font                0\n",
       "word_freq_000                 0\n",
       "word_freq_money               0\n",
       "word_freq_hp                  0\n",
       "word_freq_hpl                 0\n",
       "word_freq_george              0\n",
       "word_freq_650                 0\n",
       "word_freq_lab                 0\n",
       "word_freq_labs                0\n",
       "word_freq_telnet              0\n",
       "word_freq_857                 0\n",
       "word_freq_data                0\n",
       "word_freq_415                 0\n",
       "word_freq_85                  0\n",
       "word_freq_technology          0\n",
       "word_freq_1999                0\n",
       "word_freq_parts               0\n",
       "word_freq_pm                  0\n",
       "word_freq_direct              0\n",
       "word_freq_cs                  0\n",
       "word_freq_meeting             0\n",
       "word_freq_original            0\n",
       "word_freq_project             0\n",
       "word_freq_re                  0\n",
       "word_freq_edu                 0\n",
       "word_freq_table               0\n",
       "word_freq_conference          0\n",
       "char_freq_;                   0\n",
       "char_freq_(                   0\n",
       "char_freq_[                   0\n",
       "char_freq_!                   0\n",
       "char_freq_$                   0\n",
       "char_freq_hash                0\n",
       "capital_run_length_average    0\n",
       "capital_run_length_longest    0\n",
       "capital_run_length_total      0\n",
       "spam                          0\n",
       "dtype: int64"
      ]
     },
     "metadata": {},
     "output_type": "display_data"
    },
    {
     "name": "stdout",
     "output_type": "stream",
     "text": [
      "The proportion of Spam mails: 0.39404477287546186\n"
     ]
    }
   ],
   "source": [
    "### Loading Data \n",
    "data=pd.read_csv('Spam.csv')\n",
    "display(data.head(10))\n",
    "display(data.shape)\n",
    "display(data.isnull().sum())\n",
    "print(f'The proportion of Spam mails: {data.spam.mean()}')"
   ]
  },
  {
   "cell_type": "markdown",
   "id": "3c687cc7-ed76-4653-a56c-90b56c036e37",
   "metadata": {},
   "source": [
    "The above are the fractional word counts for all the words in an email. Each record is a separate email.\n",
    "\n",
    "~40% of the emails are classified as Spam, with this the data is not imbalanced. Hence, quite suitable for SVM."
   ]
  },
  {
   "cell_type": "code",
   "execution_count": 3,
   "id": "e7337dfc-e288-49b6-85a2-912a50e2f9ee",
   "metadata": {
    "tags": []
   },
   "outputs": [],
   "source": [
    "### Features and labels\n",
    "feats= data.drop('spam',axis=1)\n",
    "label=data['spam'].astype(int).values"
   ]
  },
  {
   "cell_type": "code",
   "execution_count": 4,
   "id": "bcfbe66e-7bba-4ed5-b6a0-41d4c51959bd",
   "metadata": {
    "tags": []
   },
   "outputs": [],
   "source": [
    "### Rescaling\n",
    "### using scaler this time to get a standardization in a form of\n",
    "### (x-mean(x))/std_dev(x)\n",
    "rescaled_feat=scale(feats)"
   ]
  },
  {
   "cell_type": "code",
   "execution_count": 5,
   "id": "d0f81862-a10c-453a-b00d-05a8900ccb33",
   "metadata": {
    "tags": []
   },
   "outputs": [
    {
     "name": "stdout",
     "output_type": "stream",
     "text": [
      "\n",
      "Training set spam %: 38.60%\n",
      "Test set spam %: 41.27% \n",
      "\n"
     ]
    }
   ],
   "source": [
    "### Train test split\n",
    "X_train, X_test, Y_train, Y_test=train_test_split(rescaled_feat,label,train_size=0.7,random_state=100)\n",
    "### \n",
    "print(f'''\n",
    "Training set spam %: {Y_train.mean()*100:.2f}%\n",
    "Test set spam %: {Y_test.mean()*100:.2f}% \n",
    "''')"
   ]
  },
  {
   "cell_type": "markdown",
   "id": "3a80d41b-cae0-484f-9df6-9a3972aeb56a",
   "metadata": {},
   "source": [
    "### Model Building "
   ]
  },
  {
   "cell_type": "code",
   "execution_count": 6,
   "id": "4e85e06e-9f21-4dbf-adf2-f77ca3cb776b",
   "metadata": {
    "tags": []
   },
   "outputs": [],
   "source": [
    "# help(SVC)\\\n",
    "### Initialize the model\n",
    "model=SVC(C=1)\n",
    "### Fit the model\n",
    "model.fit(X_train,Y_train)\n",
    "### Predict \n",
    "y_pred=model.predict(X_test)\n"
   ]
  },
  {
   "cell_type": "code",
   "execution_count": 7,
   "id": "14831b59-b0c4-432c-a6f9-2f437911f9f2",
   "metadata": {
    "tags": []
   },
   "outputs": [
    {
     "data": {
      "text/plain": [
       "774"
      ]
     },
     "execution_count": 7,
     "metadata": {},
     "output_type": "execute_result"
    }
   ],
   "source": [
    "### Confusion matrix\n",
    "cm=confusion_matrix(Y_test,y_pred)\n",
    "cm[0,0]"
   ]
  },
  {
   "cell_type": "code",
   "execution_count": 8,
   "id": "8a07786a-3679-4c6f-9931-8bc71a966303",
   "metadata": {
    "tags": []
   },
   "outputs": [
    {
     "name": "stdout",
     "output_type": "stream",
     "text": [
      "Accuracy of the model: 0.9312092686459088\n",
      "Recall/sensitivity (% of Spams identified correctly): 0.8982456140350877\n",
      "Precision/Positive predictive power: 0.9326047358834244\n",
      "Specificity/ True Negative rate: 0.9543773119605425\n"
     ]
    }
   ],
   "source": [
    "print(f\"Accuracy of the model: {accuracy_score(Y_test,y_pred)}\") ## (TP+TN/TP+FN+TN+FN)\n",
    "print(f\"Recall/sensitivity (% of Spams identified correctly): {recall_score(Y_test,y_pred)}\") ## (TP/TP+FN)\n",
    "print(f\"Precision/Positive predictive power: {precision_score(Y_test,y_pred)}\") ## (TP/TP+FP)\n",
    "print(f\"Specificity/ True Negative rate: {(cm[0,0]/(cm[0,0]+cm[0,1]))}\") ## (TN/TN+FP)\n"
   ]
  },
  {
   "cell_type": "markdown",
   "id": "33527c99-698b-4bf4-9cbe-2a31a942b1fa",
   "metadata": {
    "tags": []
   },
   "source": [
    "### Hyper-parameter Tuning\n",
    "\n",
    "#### K-fold cross validation\n",
    "A way to do simple or complex cross validation is through cross_val_score() from sklearn"
   ]
  },
  {
   "cell_type": "code",
   "execution_count": 9,
   "id": "5cd03087-0fa1-4b63-a7fb-caa969064fa1",
   "metadata": {
    "tags": []
   },
   "outputs": [],
   "source": [
    "### Creating K-Fold with 5 splits\n",
    "folds=KFold(n_splits=5, shuffle=True, random_state=100)\n",
    "\n",
    "## Initializing the model\n",
    "model=SVC(C=1)"
   ]
  },
  {
   "cell_type": "code",
   "execution_count": 10,
   "id": "56094940-b067-45fc-934f-d68ebc9b2a0a",
   "metadata": {
    "tags": []
   },
   "outputs": [],
   "source": [
    "cv_results=cross_val_score(model,X_train, Y_train, cv=folds,scoring=\"accuracy\")"
   ]
  },
  {
   "cell_type": "code",
   "execution_count": 11,
   "id": "2c44684c-c883-402f-8589-1925de4edbab",
   "metadata": {
    "tags": []
   },
   "outputs": [
    {
     "name": "stdout",
     "output_type": "stream",
     "text": [
      "[0.93167702 0.9068323  0.93944099 0.92546584 0.9378882 ]\n",
      "Mean accuracy: 0.9282608695652174\n"
     ]
    }
   ],
   "source": [
    "print(cv_results)\n",
    "print(f\"Mean accuracy: {cv_results.mean()}\")\n"
   ]
  },
  {
   "cell_type": "markdown",
   "id": "428590ec-ead1-4a3e-bddf-ef7faa6e10bf",
   "metadata": {},
   "source": [
    "### GridSearchCV\n",
    "\n",
    "When you want to choose the optimal parameter i.e. choosing the best C that spearates the data. GridSearchCV takes in the list of the parameters and fit them"
   ]
  },
  {
   "cell_type": "code",
   "execution_count": 12,
   "id": "67990526-c680-49d0-9b79-63bfba3eb006",
   "metadata": {
    "tags": []
   },
   "outputs": [],
   "source": [
    "params={'C':[0.1,1,10,100,1000]}\n",
    "\n",
    "model=SVC()\n",
    "\n",
    "model_cv=GridSearchCV( estimator=model, \n",
    "                      param_grid=params,\n",
    "                      scoring='accuracy',\n",
    "                      cv=folds,\n",
    "                      verbose=1,\n",
    "                      return_train_score=True\n",
    ")"
   ]
  },
  {
   "cell_type": "code",
   "execution_count": null,
   "id": "2d1478bc-3c2b-46dc-bec8-58f92fc89ed4",
   "metadata": {
    "tags": []
   },
   "outputs": [
    {
     "name": "stdout",
     "output_type": "stream",
     "text": [
      "Fitting 5 folds for each of 5 candidates, totalling 25 fits\n"
     ]
    }
   ],
   "source": [
    "### K-folds for each value of C\n",
    "model_cv.fit(X_train,Y_train)"
   ]
  },
  {
   "cell_type": "code",
   "execution_count": null,
   "id": "efcaf7da-69b9-45a8-8572-be78d417fc19",
   "metadata": {
    "tags": []
   },
   "outputs": [],
   "source": [
    "cv_results=pd.DataFrame(model_cv.cv_results_)"
   ]
  },
  {
   "cell_type": "code",
   "execution_count": null,
   "id": "733c43c0-9071-4560-ac2c-f13edd787b2e",
   "metadata": {
    "tags": []
   },
   "outputs": [],
   "source": [
    "cv_results"
   ]
  },
  {
   "cell_type": "code",
   "execution_count": null,
   "id": "86da4873-2553-49dc-a421-5225f8e2ade2",
   "metadata": {
    "tags": []
   },
   "outputs": [],
   "source": [
    "pp.plot(cv_results.param_C, cv_results.mean_train_score,label=\"Train accuracy score\")\n",
    "pp.plot(cv_results.param_C, cv_results.mean_test_score,label=\"Test accuracy score\")\n",
    "pp.ylabel('accuracy score')\n",
    "pp.xlabel('Cost function value on log scale')\n",
    "pp.legend()\n",
    "pp.xscale('log')"
   ]
  },
  {
   "cell_type": "markdown",
   "id": "1870597c-1249-4251-8e8e-9da8d5770a49",
   "metadata": {},
   "source": [
    "At C=10, we have a reasonable train and test accuracy score. As C increases, the model seems to be overfitted."
   ]
  },
  {
   "cell_type": "code",
   "execution_count": null,
   "id": "1c35e4e4-37b1-4655-9dbf-d4ab8ab4fccc",
   "metadata": {
    "tags": []
   },
   "outputs": [],
   "source": [
    "### Initialize the model with C=10\n",
    "model_fin=SVC(C=10)\n",
    "\n",
    "### Fit the model\n",
    "model_fin.fit(X_train,Y_train)\n",
    "\n",
    "### Predict the model\n",
    "y_pred_fin=model_fin.predict(X_test)\n",
    "\n",
    "print(f'Predicted labels after selecting the best value for C:{y_pred_fin.mean()}')\n"
   ]
  },
  {
   "cell_type": "code",
   "execution_count": null,
   "id": "b323009a-615c-4b7b-8f3c-13dce532e9f4",
   "metadata": {
    "tags": []
   },
   "outputs": [],
   "source": [
    "### Evaluation metrics\n",
    "print(f\"Accuracy of the model: {accuracy_score(Y_test,y_pred_fin)}\") ## (TP+TN/TP+FN+TN+FN)\n",
    "print(f\"Recall/sensitivity (% of Spams identified correctly): {recall_score(Y_test,y_pred_fin)}\") ## (TP/TP+FN)\n",
    "print(f\"Precision/Positive predictive power: {precision_score(Y_test,y_pred_fin)}\") ## (TP/TP+FP)\n",
    "print(f\"Specificity/ True Negative rate: {(cm[0,0]/(cm[0,0]+cm[0,1]))}\") ## (TN/TN+FP)\n"
   ]
  },
  {
   "cell_type": "code",
   "execution_count": null,
   "id": "00b4f8a0-6fb3-40c4-a542-1b8514fdcfe8",
   "metadata": {},
   "outputs": [],
   "source": []
  }
 ],
 "metadata": {
  "kernelspec": {
   "display_name": "Python 3 (ipykernel)",
   "language": "python",
   "name": "python3"
  },
  "language_info": {
   "codemirror_mode": {
    "name": "ipython",
    "version": 3
   },
   "file_extension": ".py",
   "mimetype": "text/x-python",
   "name": "python",
   "nbconvert_exporter": "python",
   "pygments_lexer": "ipython3",
   "version": "3.7.4"
  }
 },
 "nbformat": 4,
 "nbformat_minor": 5
}
