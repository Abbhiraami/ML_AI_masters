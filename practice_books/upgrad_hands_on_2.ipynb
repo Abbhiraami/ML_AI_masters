{
  "nbformat": 4,
  "nbformat_minor": 0,
  "metadata": {
    "colab": {
      "provenance": [],
      "authorship_tag": "ABX9TyP0ZJejlSFVKxYMsg6ByGbg",
      "include_colab_link": true
    },
    "kernelspec": {
      "name": "python3",
      "display_name": "Python 3"
    },
    "language_info": {
      "name": "python"
    }
  },
  "cells": [
    {
      "cell_type": "markdown",
      "metadata": {
        "id": "view-in-github",
        "colab_type": "text"
      },
      "source": [
        "<a href=\"https://colab.research.google.com/github/Abbhiraami/ML_AI_masters/blob/main/practice_books/upgrad_hands_on_2.ipynb\" target=\"_parent\"><img src=\"https://colab.research.google.com/assets/colab-badge.svg\" alt=\"Open In Colab\"/></a>"
      ]
    },
    {
      "cell_type": "code",
      "execution_count": 6,
      "metadata": {
        "id": "PHJbnTqTjaN6",
        "colab": {
          "base_uri": "https://localhost:8080/"
        },
        "outputId": "b328749e-2247-4166-a206-559198346575"
      },
      "outputs": [
        {
          "output_type": "stream",
          "name": "stdout",
          "text": [
            "Enter score:23\n",
            "Fail\n"
          ]
        }
      ],
      "source": [
        "score = float(input(f'Enter score:'))\n",
        "\n",
        "if score==100:\n",
        "  print(\"Perfect\")\n",
        "elif (score>90) and (score<100):\n",
        "  print(\"Distinction\")\n",
        "elif (score>65) and (score<90):\n",
        "  print(\"First Class\")\n",
        "elif (score>40) and (score<65):\n",
        "  print(\"Second Class\")\n",
        "else:\n",
        "  print(\"Fail\")"
      ]
    },
    {
      "cell_type": "code",
      "source": [
        "input_list=[\"sara\",\"abbhi\",\"saawan\"]\n",
        "for i in input_list:\n",
        "  # print(i)\n",
        "  if i.startswith('s'):\n",
        "    print(i)"
      ],
      "metadata": {
        "colab": {
          "base_uri": "https://localhost:8080/"
        },
        "id": "leic3ynQF0E6",
        "outputId": "22eb964e-9bd6-44f2-fb5f-0fe9e81744d4"
      },
      "execution_count": 12,
      "outputs": [
        {
          "output_type": "stream",
          "name": "stdout",
          "text": [
            "sara\n",
            "saawan\n"
          ]
        }
      ]
    },
    {
      "cell_type": "code",
      "source": [
        "st = 'Print every word in the sentence that is having length of even number of letters'\n",
        "for i in st.split():\n",
        "  print(i)\n",
        "  if len(i) %2==0:\n",
        "    print(i)"
      ],
      "metadata": {
        "colab": {
          "base_uri": "https://localhost:8080/"
        },
        "id": "OSP4pGvXNv2M",
        "outputId": "3c0ab338-953a-4e79-9389-3799260e2b65"
      },
      "execution_count": 17,
      "outputs": [
        {
          "output_type": "stream",
          "name": "stdout",
          "text": [
            "Print\n",
            "every\n",
            "word\n",
            "word\n",
            "in\n",
            "in\n",
            "the\n",
            "sentence\n",
            "sentence\n",
            "that\n",
            "that\n",
            "is\n",
            "is\n",
            "having\n",
            "having\n",
            "length\n",
            "length\n",
            "of\n",
            "of\n",
            "even\n",
            "even\n",
            "number\n",
            "number\n",
            "of\n",
            "of\n",
            "letters\n"
          ]
        }
      ]
    },
    {
      "cell_type": "code",
      "source": [
        "[x for x in st.split() if len(x)%2==0]\n",
        "func=lambda x,y: y/x*100\n",
        "list(map(func,sales,profit))"
      ],
      "metadata": {
        "colab": {
          "base_uri": "https://localhost:8080/"
        },
        "id": "NtCZ2kX1a0ej",
        "outputId": "98028b0a-aea5-4dd8-db22-4d7b9fd5dee8"
      },
      "execution_count": 29,
      "outputs": [
        {
          "output_type": "execute_result",
          "data": {
            "text/plain": [
              "[25.0, 50.0, 32.5, 40.0, 41.66666666666667]"
            ]
          },
          "metadata": {},
          "execution_count": 29
        }
      ]
    },
    {
      "cell_type": "code",
      "source": [
        "sales=[200,300,400,500,600]\n",
        "profit=[50,150,130,200,250]\n",
        "for i,j in zip(sales,profit):\n",
        "  print(j/i * 100)"
      ],
      "metadata": {
        "colab": {
          "base_uri": "https://localhost:8080/"
        },
        "id": "oqOUbjzebZ5b",
        "outputId": "e4b3b50b-12ed-4e20-addf-9748d08656a9"
      },
      "execution_count": 25,
      "outputs": [
        {
          "output_type": "stream",
          "name": "stdout",
          "text": [
            "25.0\n",
            "50.0\n",
            "32.5\n",
            "40.0\n",
            "41.66666666666667\n"
          ]
        }
      ]
    },
    {
      "cell_type": "code",
      "source": [
        "# Accept two integers fromt the user and return the product # if the product is greater tha 1000, then return the sum of two integers instead\n",
        "input_1=int(input(\"Enter first number:\"))\n",
        "input_2=int(input(\"Enter second number:\"))\n",
        "product=input_1*input_2\n",
        "if product>1000:\n",
        "  print(input_1+input_2)\n",
        "else:\n",
        "  print(product)"
      ],
      "metadata": {
        "colab": {
          "base_uri": "https://localhost:8080/"
        },
        "id": "BoQLdgNJesuE",
        "outputId": "ad3b1122-3239-4ef2-d98f-0162c12812e3"
      },
      "execution_count": 30,
      "outputs": [
        {
          "output_type": "stream",
          "name": "stdout",
          "text": [
            "Enter first number:1000\n",
            "Enter second number:5\n",
            "1005\n"
          ]
        }
      ]
    },
    {
      "cell_type": "code",
      "source": [],
      "metadata": {
        "id": "Yov2Yl-Vghtq"
      },
      "execution_count": null,
      "outputs": []
    }
  ]
}