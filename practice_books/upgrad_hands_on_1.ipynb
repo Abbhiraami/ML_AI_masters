{
  "nbformat": 4,
  "nbformat_minor": 0,
  "metadata": {
    "colab": {
      "provenance": [],
      "authorship_tag": "ABX9TyPgxoKBnRutbxPLHwU/XBts",
      "include_colab_link": true
    },
    "kernelspec": {
      "name": "python3",
      "display_name": "Python 3"
    },
    "language_info": {
      "name": "python"
    }
  },
  "cells": [
    {
      "cell_type": "markdown",
      "metadata": {
        "id": "view-in-github",
        "colab_type": "text"
      },
      "source": [
        "<a href=\"https://colab.research.google.com/github/Abbhiraami/ML_AI_masters/blob/main/practice_books/upgrad_hands_on_1.ipynb\" target=\"_parent\"><img src=\"https://colab.research.google.com/assets/colab-badge.svg\" alt=\"Open In Colab\"/></a>"
      ]
    },
    {
      "cell_type": "code",
      "execution_count": 2,
      "metadata": {
        "id": "PHJbnTqTjaN6",
        "colab": {
          "base_uri": "https://localhost:8080/"
        },
        "outputId": "860d6f01-f18c-42fe-846b-4246a2cf4e72"
      },
      "outputs": [
        {
          "output_type": "stream",
          "name": "stdout",
          "text": [
            "Hello World!!\n"
          ]
        }
      ],
      "source": [
        "### Typing the first code in python\n",
        "print(\"Hello World!!\")"
      ]
    },
    {
      "cell_type": "code",
      "source": [
        "var_float=8.9\n",
        "type(var_float)"
      ],
      "metadata": {
        "colab": {
          "base_uri": "https://localhost:8080/"
        },
        "id": "9lnf0KS6lIMj",
        "outputId": "a96e83ac-cb9b-41c6-e51c-27c5131ad807"
      },
      "execution_count": 4,
      "outputs": [
        {
          "output_type": "execute_result",
          "data": {
            "text/plain": [
              "float"
            ]
          },
          "metadata": {},
          "execution_count": 4
        }
      ]
    },
    {
      "cell_type": "code",
      "source": [
        "num1,num2=8,9\n",
        "print(\"Addition\")\n",
        "print(num1+num2)\n",
        "print(\"multiplication\")\n",
        "print(num1*num2)\n",
        "print(\"subtraction\")\n",
        "print(num1-num2)\n",
        "print(\"division\")\n",
        "print(num1/num2)\n",
        "print(\"modulus\")\n",
        "print(num1%num2)\n",
        "print(\"exponent\")\n",
        "print(num1**num2)\n",
        "print(\"floor division\")\n",
        "print(num1//num2)"
      ],
      "metadata": {
        "colab": {
          "base_uri": "https://localhost:8080/"
        },
        "id": "bUVjX5c4ouKz",
        "outputId": "74ca228a-6234-4174-c802-cc04f61ba62b"
      },
      "execution_count": 12,
      "outputs": [
        {
          "output_type": "stream",
          "name": "stdout",
          "text": [
            "Addition\n",
            "17\n",
            "multiplication\n",
            "72\n",
            "subtraction\n",
            "-1\n",
            "division\n",
            "0.8888888888888888\n",
            "modulus\n",
            "8\n",
            "exponent\n",
            "134217728\n",
            "floor division\n",
            "0\n"
          ]
        }
      ]
    },
    {
      "cell_type": "code",
      "source": [
        "5**2"
      ],
      "metadata": {
        "colab": {
          "base_uri": "https://localhost:8080/"
        },
        "id": "cwdZd-H4qoVE",
        "outputId": "06a72d34-4578-4749-8881-5d72ee92064b"
      },
      "execution_count": 13,
      "outputs": [
        {
          "output_type": "execute_result",
          "data": {
            "text/plain": [
              "25"
            ]
          },
          "metadata": {},
          "execution_count": 13
        }
      ]
    },
    {
      "cell_type": "code",
      "source": [
        "import numpy as np\n",
        "np.power(5,2)"
      ],
      "metadata": {
        "colab": {
          "base_uri": "https://localhost:8080/"
        },
        "id": "1Ll2N31HuSGx",
        "outputId": "c783aabe-1543-4d7c-a17a-c3263deba7ca"
      },
      "execution_count": 14,
      "outputs": [
        {
          "output_type": "execute_result",
          "data": {
            "text/plain": [
              "25"
            ]
          },
          "metadata": {},
          "execution_count": 14
        }
      ]
    },
    {
      "cell_type": "code",
      "source": [
        "print(f\"Average of 10,15,20: {np.mean([10,15,20])}\")"
      ],
      "metadata": {
        "colab": {
          "base_uri": "https://localhost:8080/"
        },
        "id": "JiI4WQViubYL",
        "outputId": "02e4f967-66ed-490a-d054-5d2d85ba37a2"
      },
      "execution_count": 17,
      "outputs": [
        {
          "output_type": "stream",
          "name": "stdout",
          "text": [
            "Average of 10,15,20: 15.0\n"
          ]
        }
      ]
    },
    {
      "cell_type": "code",
      "source": [
        "temp_C=10\n",
        "temp_F=temp_C*(9/5)+32\n",
        "print(f\"Temperature in Fahrenheit: {temp_F}\")\n"
      ],
      "metadata": {
        "colab": {
          "base_uri": "https://localhost:8080/"
        },
        "id": "4qLP-aVqvvGn",
        "outputId": "069bcaa9-4b62-4fbd-9cf5-f117fcee6191"
      },
      "execution_count": 18,
      "outputs": [
        {
          "output_type": "stream",
          "name": "stdout",
          "text": [
            "Temperature in Fahrenheit: 50.0\n"
          ]
        }
      ]
    },
    {
      "cell_type": "code",
      "source": [
        "### Take an input\n",
        "temp_C=float(input(\"Enter the temperature in Celsius: \"))\n",
        "temp_F=temp_C*(9/5)+32\n",
        "print(f\"Temperature in Fahrenheit: {temp_F}\")"
      ],
      "metadata": {
        "colab": {
          "base_uri": "https://localhost:8080/"
        },
        "id": "5cW_1IH8zDBj",
        "outputId": "9dbcb1e3-21cc-41b4-f2dc-014da92c6a8a"
      },
      "execution_count": 19,
      "outputs": [
        {
          "output_type": "stream",
          "name": "stdout",
          "text": [
            "Enter the temperature in Celsius: 30\n",
            "Temperature in Fahrenheit: 86.0\n"
          ]
        }
      ]
    },
    {
      "cell_type": "code",
      "source": [
        "### Take an input\n",
        "P=float(input(\"Enter the principle amount: \"))\n",
        "roi=float(input(\"Enter the rate of interest: \"))\n",
        "n=int(input(\"Enter the number of years: \"))\n",
        "r=P*roi*n\n",
        "print(f\"Simple interest: {r}\")\n"
      ],
      "metadata": {
        "colab": {
          "base_uri": "https://localhost:8080/"
        },
        "id": "KVAHvyWhzbOY",
        "outputId": "1f9d4446-d563-4fee-d7ea-b5b95d8e0ad7"
      },
      "execution_count": 20,
      "outputs": [
        {
          "output_type": "stream",
          "name": "stdout",
          "text": [
            "Enter the principle amount: 1000\n",
            "Enter the rate of interest: .12\n",
            "Enter the number of years: 5\n",
            "Simple interest: 600.0\n"
          ]
        }
      ]
    },
    {
      "cell_type": "code",
      "source": [
        "string=\"Data Science\"\n",
        "string.capitalize(),string.title()"
      ],
      "metadata": {
        "colab": {
          "base_uri": "https://localhost:8080/"
        },
        "id": "YlEJS_sd0uFZ",
        "outputId": "47aaa154-ae2b-4302-c0d3-d06d42035631"
      },
      "execution_count": 21,
      "outputs": [
        {
          "output_type": "execute_result",
          "data": {
            "text/plain": [
              "('Data science', 'Data Science')"
            ]
          },
          "metadata": {},
          "execution_count": 21
        }
      ]
    },
    {
      "cell_type": "code",
      "source": [
        "input_str=\"Hello World\"\n",
        "input_str.replace(\" \",\"-\")"
      ],
      "metadata": {
        "colab": {
          "base_uri": "https://localhost:8080/",
          "height": 36
        },
        "id": "StdtK7HvCBBd",
        "outputId": "05338e84-66de-4342-e303-aaee0bee24f7"
      },
      "execution_count": 23,
      "outputs": [
        {
          "output_type": "execute_result",
          "data": {
            "text/plain": [
              "'Hello-World'"
            ],
            "application/vnd.google.colaboratory.intrinsic+json": {
              "type": "string"
            }
          },
          "metadata": {},
          "execution_count": 23
        }
      ]
    },
    {
      "cell_type": "code",
      "source": [],
      "metadata": {
        "id": "flg_LMAJGEJP"
      },
      "execution_count": null,
      "outputs": []
    }
  ]
}