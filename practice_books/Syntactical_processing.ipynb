{
  "nbformat": 4,
  "nbformat_minor": 0,
  "metadata": {
    "colab": {
      "provenance": [],
      "authorship_tag": "ABX9TyO4pvBNiHh+H013URTZsLd7",
      "include_colab_link": true
    },
    "kernelspec": {
      "name": "python3",
      "display_name": "Python 3"
    },
    "language_info": {
      "name": "python"
    }
  },
  "cells": [
    {
      "cell_type": "markdown",
      "metadata": {
        "id": "view-in-github",
        "colab_type": "text"
      },
      "source": [
        "<a href=\"https://colab.research.google.com/github/Abbhiraami/ML_AI_masters/blob/main/practice_books/Syntactical_processing.ipynb\" target=\"_parent\"><img src=\"https://colab.research.google.com/assets/colab-badge.svg\" alt=\"Open In Colab\"/></a>"
      ]
    },
    {
      "cell_type": "code",
      "execution_count": 1,
      "metadata": {
        "id": "OUfkHb8BgEI8"
      },
      "outputs": [],
      "source": [
        "import nltk"
      ]
    },
    {
      "cell_type": "code",
      "source": [
        "nltk.download(\"punkt_tab\")\n",
        "# Corrected the typo in the download command\n",
        "nltk.download('averaged_perceptron_tagger_eng')\n",
        "nltk.download('averaged_perceptron_tagger') # needed for pos tagging"
      ],
      "metadata": {
        "colab": {
          "base_uri": "https://localhost:8080/"
        },
        "id": "AqJcqQj0hFPe",
        "outputId": "2c38e455-92c0-4fb5-a0bc-b39f9262ade7"
      },
      "execution_count": 11,
      "outputs": [
        {
          "output_type": "stream",
          "name": "stderr",
          "text": [
            "[nltk_data] Downloading package punkt_tab to /root/nltk_data...\n",
            "[nltk_data]   Package punkt_tab is already up-to-date!\n",
            "[nltk_data] Downloading package averaged_perceptron_tagger_eng to\n",
            "[nltk_data]     /root/nltk_data...\n",
            "[nltk_data]   Unzipping taggers/averaged_perceptron_tagger_eng.zip.\n",
            "[nltk_data] Downloading package averaged_perceptron_tagger to\n",
            "[nltk_data]     /root/nltk_data...\n",
            "[nltk_data]   Package averaged_perceptron_tagger is already up-to-\n",
            "[nltk_data]       date!\n"
          ]
        },
        {
          "output_type": "execute_result",
          "data": {
            "text/plain": [
              "True"
            ]
          },
          "metadata": {},
          "execution_count": 11
        }
      ]
    },
    {
      "cell_type": "code",
      "source": [
        "sample_text=\"Alice loves painting in the quite and calm evenings.\""
      ],
      "metadata": {
        "id": "JRwqPf5UlYcK"
      },
      "execution_count": 17,
      "outputs": []
    },
    {
      "cell_type": "code",
      "source": [
        "from nltk.tokenize import word_tokenize"
      ],
      "metadata": {
        "id": "eLktnjP8mXkU"
      },
      "execution_count": 18,
      "outputs": []
    },
    {
      "cell_type": "code",
      "source": [
        "tokens= word_tokenize(sample_text)\n",
        "tokens"
      ],
      "metadata": {
        "colab": {
          "base_uri": "https://localhost:8080/"
        },
        "id": "z8v0KpBtmbFh",
        "outputId": "a51e55fe-ce26-4913-d24f-fcbc13cfbf3a"
      },
      "execution_count": 19,
      "outputs": [
        {
          "output_type": "execute_result",
          "data": {
            "text/plain": [
              "['Alice',\n",
              " 'loves',\n",
              " 'painting',\n",
              " 'in',\n",
              " 'the',\n",
              " 'quite',\n",
              " 'and',\n",
              " 'calm',\n",
              " 'evenings',\n",
              " '.']"
            ]
          },
          "metadata": {},
          "execution_count": 19
        }
      ]
    },
    {
      "cell_type": "code",
      "source": [
        "pos_tags=nltk.pos_tag(tokens)\n",
        "pos_tags"
      ],
      "metadata": {
        "colab": {
          "base_uri": "https://localhost:8080/"
        },
        "id": "vwmg_hrqmhxe",
        "outputId": "ba0d2766-01a4-4188-c329-b782c3b5408b"
      },
      "execution_count": 20,
      "outputs": [
        {
          "output_type": "execute_result",
          "data": {
            "text/plain": [
              "[('Alice', 'NNP'),\n",
              " ('loves', 'VBZ'),\n",
              " ('painting', 'VBG'),\n",
              " ('in', 'IN'),\n",
              " ('the', 'DT'),\n",
              " ('quite', 'NN'),\n",
              " ('and', 'CC'),\n",
              " ('calm', 'JJ'),\n",
              " ('evenings', 'NNS'),\n",
              " ('.', '.')]"
            ]
          },
          "metadata": {},
          "execution_count": 20
        }
      ]
    },
    {
      "cell_type": "code",
      "source": [
        "#Define custom rules\n",
        "def custom_tagger(pos_tags):\n",
        "  modified_tags = []\n",
        "  for word, tag in pos_tags:\n",
        "    # Rule 1: \"painting\" should always be a noun\n",
        "    if word.lower() == \"painting\": modified_tags.append((word, \"NN\"))\n",
        "    # Rule 2: \"evenings\" should always be singular noun\n",
        "    elif word.lower() == \"evenings\": modified_tags.append((word, \"NN\"))\n",
        "    else:\n",
        "    # Default case: Use the tag from the pre-trained tagger\n",
        "      modified_tags.append((word, tag))\n",
        "  return modified_tags"
      ],
      "metadata": {
        "id": "xaREvv40mvLY"
      },
      "execution_count": 23,
      "outputs": []
    },
    {
      "cell_type": "code",
      "source": [
        "custom_pos_tags=custom_tagger(pos_tags)\n",
        "custom_pos_tags"
      ],
      "metadata": {
        "colab": {
          "base_uri": "https://localhost:8080/"
        },
        "id": "zH9lVy4Nq66H",
        "outputId": "0cca2485-7e65-496b-bf95-23d6e7a87c40"
      },
      "execution_count": 25,
      "outputs": [
        {
          "output_type": "execute_result",
          "data": {
            "text/plain": [
              "[('Alice', 'NNP'),\n",
              " ('loves', 'VBZ'),\n",
              " ('painting', 'NN'),\n",
              " ('in', 'IN'),\n",
              " ('the', 'DT'),\n",
              " ('quite', 'NN'),\n",
              " ('and', 'CC'),\n",
              " ('calm', 'JJ'),\n",
              " ('evenings', 'NN'),\n",
              " ('.', '.')]"
            ]
          },
          "metadata": {},
          "execution_count": 25
        }
      ]
    },
    {
      "cell_type": "code",
      "source": [
        "from nltk.corpus import treebank\n",
        "from nltk.tag import UnigramTagger\n",
        "nltk.download('treebank')"
      ],
      "metadata": {
        "colab": {
          "base_uri": "https://localhost:8080/"
        },
        "id": "_JIEPmpzrFq-",
        "outputId": "2d92e94c-ef54-4fae-daff-c93ac2fd7188"
      },
      "execution_count": 28,
      "outputs": [
        {
          "output_type": "stream",
          "name": "stderr",
          "text": [
            "[nltk_data] Downloading package treebank to /root/nltk_data...\n",
            "[nltk_data]   Unzipping corpora/treebank.zip.\n"
          ]
        },
        {
          "output_type": "execute_result",
          "data": {
            "text/plain": [
              "True"
            ]
          },
          "metadata": {},
          "execution_count": 28
        }
      ]
    },
    {
      "cell_type": "code",
      "source": [
        "## Load tagged sentences from the treebank\n",
        "tagged_sentences=treebank.tagged_sents()\n",
        "print(tagged_sentences)"
      ],
      "metadata": {
        "colab": {
          "base_uri": "https://localhost:8080/"
        },
        "id": "TWWo6HQTtNcZ",
        "outputId": "c20e1ed0-e2b9-4ab3-d5c6-b656e2960934"
      },
      "execution_count": 29,
      "outputs": [
        {
          "output_type": "stream",
          "name": "stdout",
          "text": [
            "[[('Pierre', 'NNP'), ('Vinken', 'NNP'), (',', ','), ('61', 'CD'), ('years', 'NNS'), ('old', 'JJ'), (',', ','), ('will', 'MD'), ('join', 'VB'), ('the', 'DT'), ('board', 'NN'), ('as', 'IN'), ('a', 'DT'), ('nonexecutive', 'JJ'), ('director', 'NN'), ('Nov.', 'NNP'), ('29', 'CD'), ('.', '.')], [('Mr.', 'NNP'), ('Vinken', 'NNP'), ('is', 'VBZ'), ('chairman', 'NN'), ('of', 'IN'), ('Elsevier', 'NNP'), ('N.V.', 'NNP'), (',', ','), ('the', 'DT'), ('Dutch', 'NNP'), ('publishing', 'VBG'), ('group', 'NN'), ('.', '.')], ...]\n"
          ]
        }
      ]
    },
    {
      "cell_type": "code",
      "source": [
        "len(tagged_sentences)"
      ],
      "metadata": {
        "colab": {
          "base_uri": "https://localhost:8080/"
        },
        "id": "U1Znbyk5uBkU",
        "outputId": "bf13da92-cb4a-44a9-d2f1-43db810ebdca"
      },
      "execution_count": 30,
      "outputs": [
        {
          "output_type": "execute_result",
          "data": {
            "text/plain": [
              "3914"
            ]
          },
          "metadata": {},
          "execution_count": 30
        }
      ]
    },
    {
      "cell_type": "code",
      "source": [
        "from sklearn.model_selection import train_test_split\n",
        "train_data, test_data=train_test_split(tagged_sentences, test_size=0.2, random_state=42)\n",
        "print(f'Train Data: {len(train_data)}')\n",
        "print(f'Test Data: {len(test_data)}')\n",
        "#"
      ],
      "metadata": {
        "colab": {
          "base_uri": "https://localhost:8080/"
        },
        "id": "3xmwrOBWuHXi",
        "outputId": "c31e7f98-42bf-4e9c-fdf6-b2776cfbdda2"
      },
      "execution_count": 32,
      "outputs": [
        {
          "output_type": "stream",
          "name": "stdout",
          "text": [
            "Train Data: 3131\n",
            "Test Data: 783\n"
          ]
        }
      ]
    },
    {
      "cell_type": "code",
      "source": [
        "### Train Unigram\n",
        "unigram_tagger=UnigramTagger(train_data)\n"
      ],
      "metadata": {
        "id": "f8Dz1SnLuXVE"
      },
      "execution_count": 33,
      "outputs": []
    },
    {
      "cell_type": "code",
      "source": [
        "accuracy=unigram_tagger.accuracy(test_data)\n",
        "print(f'Accuracy: {100*accuracy:.2f}%')"
      ],
      "metadata": {
        "colab": {
          "base_uri": "https://localhost:8080/"
        },
        "id": "Jshf8Bmi1R1l",
        "outputId": "ae1d74a1-34bd-4977-fd71-de3d7528c90c"
      },
      "execution_count": 36,
      "outputs": [
        {
          "output_type": "stream",
          "name": "stdout",
          "text": [
            "Accuracy: 88.27%\n"
          ]
        }
      ]
    },
    {
      "cell_type": "code",
      "source": [
        "from nltk.tag import BigramTagger"
      ],
      "metadata": {
        "id": "dvpDgefT1TPs"
      },
      "execution_count": 37,
      "outputs": []
    },
    {
      "cell_type": "code",
      "source": [
        "## Train a bigram POS Tagger with Unigram as a backoff\n",
        "bigram_tagger=BigramTagger(train_data, backoff=unigram_tagger)\n",
        "print(f'Train: {100*bigram_tagger.accuracy(train_data):.2f}%')\n",
        "print(f'Test: {100*bigram_tagger.accuracy(test_data):.2f}%')\n"
      ],
      "metadata": {
        "colab": {
          "base_uri": "https://localhost:8080/"
        },
        "id": "vrQjD9pe2Plj",
        "outputId": "cb4d255d-91ed-46ce-cd0b-8edad1f20812"
      },
      "execution_count": 43,
      "outputs": [
        {
          "output_type": "stream",
          "name": "stdout",
          "text": [
            "Train: 98.61%\n",
            "Test: 89.12%\n"
          ]
        }
      ]
    },
    {
      "cell_type": "code",
      "source": [
        "## Train a bigram POS Tagger with Trigram as a backoff\n",
        "from nltk.tag import TrigramTagger\n",
        "trigram_tagger=TrigramTagger(train_data, backoff=unigram_tagger)\n",
        "print(f'Train: {100*trigram_tagger.accuracy(train_data):.2f}%')\n",
        "print(f'Test: {100*trigram_tagger.accuracy(test_data):.2f}%')\n"
      ],
      "metadata": {
        "colab": {
          "base_uri": "https://localhost:8080/"
        },
        "id": "MeozRpzK292x",
        "outputId": "99c9fb56-9033-4a10-ea58-9a62b0d8929d"
      },
      "execution_count": 45,
      "outputs": [
        {
          "output_type": "stream",
          "name": "stdout",
          "text": [
            "Train: 99.25%\n",
            "Test: 88.95%\n"
          ]
        }
      ]
    },
    {
      "cell_type": "code",
      "source": [
        "sent=\"The capital of India is New Delhi\"\n",
        "tags=unigram_tagger.tag(word_tokenize(sent))\n",
        "print(tags)"
      ],
      "metadata": {
        "colab": {
          "base_uri": "https://localhost:8080/"
        },
        "id": "zDTtYDtT4WWW",
        "outputId": "8808de35-09dd-43b2-c06e-70a1c7d1d582"
      },
      "execution_count": 46,
      "outputs": [
        {
          "output_type": "stream",
          "name": "stdout",
          "text": [
            "[('The', 'DT'), ('capital', 'NN'), ('of', 'IN'), ('India', 'NNP'), ('is', 'VBZ'), ('New', 'NNP'), ('Delhi', None)]\n"
          ]
        }
      ]
    },
    {
      "cell_type": "code",
      "source": [
        "from nltk.tag.sequential import ClassifierBasedPOSTagger"
      ],
      "metadata": {
        "id": "aGLAKDMh7sHl"
      },
      "execution_count": 47,
      "outputs": []
    },
    {
      "cell_type": "code",
      "source": [
        "classifier_tagger=ClassifierBasedPOSTagger(train=train_data)\n",
        "print(f'Train: {100*classifier_tagger.accuracy(train_data):.2f}%')\n",
        "print(f'Test: {100*classifier_tagger.accuracy(test_data):.2f}%')"
      ],
      "metadata": {
        "colab": {
          "base_uri": "https://localhost:8080/"
        },
        "id": "DKCorZtK73Lq",
        "outputId": "49a31616-b479-4126-c946-fb9c5efe93ea"
      },
      "execution_count": 50,
      "outputs": [
        {
          "output_type": "stream",
          "name": "stdout",
          "text": [
            "Train: 97.81%\n",
            "Test: 93.75%\n"
          ]
        }
      ]
    },
    {
      "cell_type": "code",
      "source": [
        "tags=classifier_tagger.tag(word_tokenize(sent))\n",
        "print(tags)"
      ],
      "metadata": {
        "colab": {
          "base_uri": "https://localhost:8080/"
        },
        "id": "4gSO0WpU77S3",
        "outputId": "e551b954-b1a5-488c-e2c5-54a4536d4766"
      },
      "execution_count": 51,
      "outputs": [
        {
          "output_type": "stream",
          "name": "stdout",
          "text": [
            "[('The', 'DT'), ('capital', 'NN'), ('of', 'IN'), ('India', 'NNP'), ('is', 'VBZ'), ('New', 'NNP'), ('Delhi', 'NNP')]\n"
          ]
        }
      ]
    },
    {
      "cell_type": "code",
      "source": [],
      "metadata": {
        "id": "UTSXk8t78I5W"
      },
      "execution_count": null,
      "outputs": []
    }
  ]
}