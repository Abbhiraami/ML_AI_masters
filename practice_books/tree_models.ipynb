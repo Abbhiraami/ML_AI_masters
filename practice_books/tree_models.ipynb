{
 "cells": [
  {
   "cell_type": "markdown",
   "id": "3bd25ccb-52f8-4da3-83e7-a1a6288d64c5",
   "metadata": {},
   "source": [
    "### Attrition Rate - Model BUilding - Tree Models\n",
    "\n",
    "1. Adaboost!!! Both regression and classification problems\n",
    "2. GBM"
   ]
  },
  {
   "cell_type": "code",
   "execution_count": 81,
   "id": "44aa5b2c-c556-4564-97f7-f4b883ca7d97",
   "metadata": {
    "tags": []
   },
   "outputs": [
    {
     "name": "stdout",
     "output_type": "stream",
     "text": [
      "Collecting xgboostNote: you may need to restart the kernel to use updated packages.\n",
      "\n",
      "  Downloading xgboost-1.6.2-py3-none-win_amd64.whl.metadata (1.8 kB)\n",
      "Requirement already satisfied: numpy in c:\\users\\shambhavvisen\\appdata\\local\\programs\\python\\python37\\lib\\site-packages (from xgboost) (1.21.6)\n",
      "Requirement already satisfied: scipy in c:\\users\\shambhavvisen\\appdata\\local\\programs\\python\\python37\\lib\\site-packages (from xgboost) (1.7.3)\n",
      "Downloading xgboost-1.6.2-py3-none-win_amd64.whl (125.4 MB)\n",
      "   ---------------------------------------- 125.4/125.4 MB 8.5 MB/s eta 0:00:00\n",
      "Installing collected packages: xgboost\n",
      "Successfully installed xgboost-1.6.2\n"
     ]
    }
   ],
   "source": [
    "pip install xgboost"
   ]
  },
  {
   "cell_type": "code",
   "execution_count": 82,
   "id": "d81de9ad-9747-4e5a-a9d4-0df054be9611",
   "metadata": {
    "tags": []
   },
   "outputs": [],
   "source": [
    "import numpy as np\n",
    "import time\n",
    "# import Ipython\n",
    "# from ipynb.display import display\n",
    "import pandas as pd\n",
    "import sklearn as sk\n",
    "import seaborn as sns\n",
    "import matplotlib.pyplot as pp\n",
    "%matplotlib inline\n",
    "\n",
    "from sklearn.model_selection import train_test_split, GridSearchCV\n",
    "from sklearn.linear_model import LinearRegression\n",
    "from sklearn.tree import DecisionTreeClassifier\n",
    "from sklearn.ensemble import (AdaBoostClassifier, AdaBoostRegressor, GradientBoostingClassifier,GradientBoostingRegressor)\n",
    "from sklearn.preprocessing import StandardScaler, LabelEncoder\n",
    "from sklearn.metrics import (accuracy_score, log_loss,confusion_matrix, mean_squared_error,explained_variance_score,r2_score)\n",
    "\n",
    "from xgboost import XGBClassifier\n",
    "\n",
    "import warnings\n",
    "warnings.filterwarnings('ignore')"
   ]
  },
  {
   "cell_type": "code",
   "execution_count": 3,
   "id": "df413d4d-4eef-4f64-be72-d444024fd60a",
   "metadata": {
    "tags": []
   },
   "outputs": [
    {
     "name": "stdout",
     "output_type": "stream",
     "text": [
      "No     1233\n",
      "Yes     237\n",
      "Name: Attrition, dtype: int64\n"
     ]
    }
   ],
   "source": [
    "## Importing dataset\n",
    "df=pd.read_csv('WA_Fn-UseC_-HR-Employee-Attrition.csv')\n",
    "df.head(4)\n",
    "df.dtypes\n",
    "print(df.Attrition.value_counts())"
   ]
  },
  {
   "cell_type": "code",
   "execution_count": 4,
   "id": "031281b6-7fa0-4ecd-b558-2013a3aa737f",
   "metadata": {
    "tags": []
   },
   "outputs": [
    {
     "name": "stdout",
     "output_type": "stream",
     "text": [
      "numerical data :26\n",
      "categorical data :9\n"
     ]
    }
   ],
   "source": [
    "### Let's count the number of dtypes ###\n",
    "df_int=pd.DataFrame(data=df.select_dtypes(include=['int64']))\n",
    "df_obj=pd.DataFrame(data=df.select_dtypes(include=['object']))\n",
    "print(f'numerical data :{df_int.shape[1]}')\n",
    "print(f'categorical data :{df_obj.shape[1]}')\n"
   ]
  },
  {
   "cell_type": "code",
   "execution_count": 5,
   "id": "1a96b48e-4721-4039-aa12-4808dc75699c",
   "metadata": {
    "tags": []
   },
   "outputs": [
    {
     "data": {
      "text/plain": [
       "(1470, 21)"
      ]
     },
     "execution_count": 5,
     "metadata": {},
     "output_type": "execute_result"
    }
   ],
   "source": [
    "### Encoding the categorical data ###\n",
    "df_obj=df_obj.drop('Attrition',axis=1)\n",
    "df_obj=pd.get_dummies(df_obj,drop_first=True)\n",
    "df_obj.shape\n",
    "### Label Encoder ###\n",
    "# for i in d"
   ]
  },
  {
   "cell_type": "code",
   "execution_count": 6,
   "id": "ed5593ab-4224-4201-8002-5843131cb85f",
   "metadata": {
    "tags": []
   },
   "outputs": [
    {
     "data": {
      "text/html": [
       "<div>\n",
       "<style scoped>\n",
       "    .dataframe tbody tr th:only-of-type {\n",
       "        vertical-align: middle;\n",
       "    }\n",
       "\n",
       "    .dataframe tbody tr th {\n",
       "        vertical-align: top;\n",
       "    }\n",
       "\n",
       "    .dataframe thead th {\n",
       "        text-align: right;\n",
       "    }\n",
       "</style>\n",
       "<table border=\"1\" class=\"dataframe\">\n",
       "  <thead>\n",
       "    <tr style=\"text-align: right;\">\n",
       "      <th></th>\n",
       "      <th>Age</th>\n",
       "      <th>DailyRate</th>\n",
       "      <th>DistanceFromHome</th>\n",
       "      <th>Education</th>\n",
       "      <th>EmployeeCount</th>\n",
       "      <th>EmployeeNumber</th>\n",
       "      <th>EnvironmentSatisfaction</th>\n",
       "      <th>HourlyRate</th>\n",
       "      <th>JobInvolvement</th>\n",
       "      <th>JobLevel</th>\n",
       "      <th>...</th>\n",
       "      <th>RelationshipSatisfaction</th>\n",
       "      <th>StandardHours</th>\n",
       "      <th>StockOptionLevel</th>\n",
       "      <th>TotalWorkingYears</th>\n",
       "      <th>TrainingTimesLastYear</th>\n",
       "      <th>WorkLifeBalance</th>\n",
       "      <th>YearsAtCompany</th>\n",
       "      <th>YearsInCurrentRole</th>\n",
       "      <th>YearsSinceLastPromotion</th>\n",
       "      <th>YearsWithCurrManager</th>\n",
       "    </tr>\n",
       "  </thead>\n",
       "  <tbody>\n",
       "    <tr>\n",
       "      <th>0</th>\n",
       "      <td>0.446350</td>\n",
       "      <td>0.742527</td>\n",
       "      <td>-1.010909</td>\n",
       "      <td>-0.891688</td>\n",
       "      <td>0.0</td>\n",
       "      <td>-1.701283</td>\n",
       "      <td>-0.660531</td>\n",
       "      <td>1.383138</td>\n",
       "      <td>0.379672</td>\n",
       "      <td>-0.057788</td>\n",
       "      <td>...</td>\n",
       "      <td>-1.584178</td>\n",
       "      <td>0.0</td>\n",
       "      <td>-0.932014</td>\n",
       "      <td>-0.421642</td>\n",
       "      <td>-2.171982</td>\n",
       "      <td>-2.493820</td>\n",
       "      <td>-0.164613</td>\n",
       "      <td>-0.063296</td>\n",
       "      <td>-0.679146</td>\n",
       "      <td>0.245834</td>\n",
       "    </tr>\n",
       "    <tr>\n",
       "      <th>1</th>\n",
       "      <td>1.322365</td>\n",
       "      <td>-1.297775</td>\n",
       "      <td>-0.147150</td>\n",
       "      <td>-1.868426</td>\n",
       "      <td>0.0</td>\n",
       "      <td>-1.699621</td>\n",
       "      <td>0.254625</td>\n",
       "      <td>-0.240677</td>\n",
       "      <td>-1.026167</td>\n",
       "      <td>-0.057788</td>\n",
       "      <td>...</td>\n",
       "      <td>1.191438</td>\n",
       "      <td>0.0</td>\n",
       "      <td>0.241988</td>\n",
       "      <td>-0.164511</td>\n",
       "      <td>0.155707</td>\n",
       "      <td>0.338096</td>\n",
       "      <td>0.488508</td>\n",
       "      <td>0.764998</td>\n",
       "      <td>-0.368715</td>\n",
       "      <td>0.806541</td>\n",
       "    </tr>\n",
       "    <tr>\n",
       "      <th>2</th>\n",
       "      <td>0.008343</td>\n",
       "      <td>1.414363</td>\n",
       "      <td>-0.887515</td>\n",
       "      <td>-0.891688</td>\n",
       "      <td>0.0</td>\n",
       "      <td>-1.696298</td>\n",
       "      <td>1.169781</td>\n",
       "      <td>1.284725</td>\n",
       "      <td>-1.026167</td>\n",
       "      <td>-0.961486</td>\n",
       "      <td>...</td>\n",
       "      <td>-0.658973</td>\n",
       "      <td>0.0</td>\n",
       "      <td>-0.932014</td>\n",
       "      <td>-0.550208</td>\n",
       "      <td>0.155707</td>\n",
       "      <td>0.338096</td>\n",
       "      <td>-1.144294</td>\n",
       "      <td>-1.167687</td>\n",
       "      <td>-0.679146</td>\n",
       "      <td>-1.155935</td>\n",
       "    </tr>\n",
       "    <tr>\n",
       "      <th>3</th>\n",
       "      <td>-0.429664</td>\n",
       "      <td>1.461466</td>\n",
       "      <td>-0.764121</td>\n",
       "      <td>1.061787</td>\n",
       "      <td>0.0</td>\n",
       "      <td>-1.694636</td>\n",
       "      <td>1.169781</td>\n",
       "      <td>-0.486709</td>\n",
       "      <td>0.379672</td>\n",
       "      <td>-0.961486</td>\n",
       "      <td>...</td>\n",
       "      <td>0.266233</td>\n",
       "      <td>0.0</td>\n",
       "      <td>-0.932014</td>\n",
       "      <td>-0.421642</td>\n",
       "      <td>0.155707</td>\n",
       "      <td>0.338096</td>\n",
       "      <td>0.161947</td>\n",
       "      <td>0.764998</td>\n",
       "      <td>0.252146</td>\n",
       "      <td>-1.155935</td>\n",
       "    </tr>\n",
       "    <tr>\n",
       "      <th>4</th>\n",
       "      <td>-1.086676</td>\n",
       "      <td>-0.524295</td>\n",
       "      <td>-0.887515</td>\n",
       "      <td>-1.868426</td>\n",
       "      <td>0.0</td>\n",
       "      <td>-1.691313</td>\n",
       "      <td>-1.575686</td>\n",
       "      <td>-1.274014</td>\n",
       "      <td>0.379672</td>\n",
       "      <td>-0.961486</td>\n",
       "      <td>...</td>\n",
       "      <td>1.191438</td>\n",
       "      <td>0.0</td>\n",
       "      <td>0.241988</td>\n",
       "      <td>-0.678774</td>\n",
       "      <td>0.155707</td>\n",
       "      <td>0.338096</td>\n",
       "      <td>-0.817734</td>\n",
       "      <td>-0.615492</td>\n",
       "      <td>-0.058285</td>\n",
       "      <td>-0.595227</td>\n",
       "    </tr>\n",
       "    <tr>\n",
       "      <th>...</th>\n",
       "      <td>...</td>\n",
       "      <td>...</td>\n",
       "      <td>...</td>\n",
       "      <td>...</td>\n",
       "      <td>...</td>\n",
       "      <td>...</td>\n",
       "      <td>...</td>\n",
       "      <td>...</td>\n",
       "      <td>...</td>\n",
       "      <td>...</td>\n",
       "      <td>...</td>\n",
       "      <td>...</td>\n",
       "      <td>...</td>\n",
       "      <td>...</td>\n",
       "      <td>...</td>\n",
       "      <td>...</td>\n",
       "      <td>...</td>\n",
       "      <td>...</td>\n",
       "      <td>...</td>\n",
       "      <td>...</td>\n",
       "      <td>...</td>\n",
       "    </tr>\n",
       "    <tr>\n",
       "      <th>1465</th>\n",
       "      <td>-0.101159</td>\n",
       "      <td>0.202082</td>\n",
       "      <td>1.703764</td>\n",
       "      <td>-0.891688</td>\n",
       "      <td>0.0</td>\n",
       "      <td>1.721670</td>\n",
       "      <td>0.254625</td>\n",
       "      <td>-1.224807</td>\n",
       "      <td>1.785511</td>\n",
       "      <td>-0.057788</td>\n",
       "      <td>...</td>\n",
       "      <td>0.266233</td>\n",
       "      <td>0.0</td>\n",
       "      <td>0.241988</td>\n",
       "      <td>0.735447</td>\n",
       "      <td>0.155707</td>\n",
       "      <td>0.338096</td>\n",
       "      <td>-0.327893</td>\n",
       "      <td>-0.615492</td>\n",
       "      <td>-0.679146</td>\n",
       "      <td>-0.314873</td>\n",
       "    </tr>\n",
       "    <tr>\n",
       "      <th>1466</th>\n",
       "      <td>0.227347</td>\n",
       "      <td>-0.469754</td>\n",
       "      <td>-0.393938</td>\n",
       "      <td>-1.868426</td>\n",
       "      <td>0.0</td>\n",
       "      <td>1.723332</td>\n",
       "      <td>1.169781</td>\n",
       "      <td>-1.175601</td>\n",
       "      <td>-1.026167</td>\n",
       "      <td>0.845911</td>\n",
       "      <td>...</td>\n",
       "      <td>-1.584178</td>\n",
       "      <td>0.0</td>\n",
       "      <td>0.241988</td>\n",
       "      <td>-0.293077</td>\n",
       "      <td>1.707500</td>\n",
       "      <td>0.338096</td>\n",
       "      <td>-0.001333</td>\n",
       "      <td>0.764998</td>\n",
       "      <td>-0.368715</td>\n",
       "      <td>0.806541</td>\n",
       "    </tr>\n",
       "    <tr>\n",
       "      <th>1467</th>\n",
       "      <td>-1.086676</td>\n",
       "      <td>-1.605183</td>\n",
       "      <td>-0.640727</td>\n",
       "      <td>0.085049</td>\n",
       "      <td>0.0</td>\n",
       "      <td>1.726655</td>\n",
       "      <td>-0.660531</td>\n",
       "      <td>1.038693</td>\n",
       "      <td>1.785511</td>\n",
       "      <td>-0.057788</td>\n",
       "      <td>...</td>\n",
       "      <td>-0.658973</td>\n",
       "      <td>0.0</td>\n",
       "      <td>0.241988</td>\n",
       "      <td>-0.678774</td>\n",
       "      <td>-2.171982</td>\n",
       "      <td>0.338096</td>\n",
       "      <td>-0.164613</td>\n",
       "      <td>-0.615492</td>\n",
       "      <td>-0.679146</td>\n",
       "      <td>-0.314873</td>\n",
       "    </tr>\n",
       "    <tr>\n",
       "      <th>1468</th>\n",
       "      <td>1.322365</td>\n",
       "      <td>0.546677</td>\n",
       "      <td>-0.887515</td>\n",
       "      <td>0.085049</td>\n",
       "      <td>0.0</td>\n",
       "      <td>1.728317</td>\n",
       "      <td>1.169781</td>\n",
       "      <td>-0.142264</td>\n",
       "      <td>-1.026167</td>\n",
       "      <td>-0.057788</td>\n",
       "      <td>...</td>\n",
       "      <td>1.191438</td>\n",
       "      <td>0.0</td>\n",
       "      <td>-0.932014</td>\n",
       "      <td>0.735447</td>\n",
       "      <td>0.155707</td>\n",
       "      <td>-1.077862</td>\n",
       "      <td>0.325228</td>\n",
       "      <td>0.488900</td>\n",
       "      <td>-0.679146</td>\n",
       "      <td>1.086895</td>\n",
       "    </tr>\n",
       "    <tr>\n",
       "      <th>1469</th>\n",
       "      <td>-0.320163</td>\n",
       "      <td>-0.432568</td>\n",
       "      <td>-0.147150</td>\n",
       "      <td>0.085049</td>\n",
       "      <td>0.0</td>\n",
       "      <td>1.733302</td>\n",
       "      <td>-0.660531</td>\n",
       "      <td>0.792660</td>\n",
       "      <td>1.785511</td>\n",
       "      <td>-0.057788</td>\n",
       "      <td>...</td>\n",
       "      <td>-1.584178</td>\n",
       "      <td>0.0</td>\n",
       "      <td>-0.932014</td>\n",
       "      <td>-0.678774</td>\n",
       "      <td>0.155707</td>\n",
       "      <td>1.754054</td>\n",
       "      <td>-0.491174</td>\n",
       "      <td>-0.339394</td>\n",
       "      <td>-0.368715</td>\n",
       "      <td>-0.595227</td>\n",
       "    </tr>\n",
       "  </tbody>\n",
       "</table>\n",
       "<p>1470 rows × 26 columns</p>\n",
       "</div>"
      ],
      "text/plain": [
       "           Age  DailyRate  DistanceFromHome  Education  EmployeeCount  \\\n",
       "0     0.446350   0.742527         -1.010909  -0.891688            0.0   \n",
       "1     1.322365  -1.297775         -0.147150  -1.868426            0.0   \n",
       "2     0.008343   1.414363         -0.887515  -0.891688            0.0   \n",
       "3    -0.429664   1.461466         -0.764121   1.061787            0.0   \n",
       "4    -1.086676  -0.524295         -0.887515  -1.868426            0.0   \n",
       "...        ...        ...               ...        ...            ...   \n",
       "1465 -0.101159   0.202082          1.703764  -0.891688            0.0   \n",
       "1466  0.227347  -0.469754         -0.393938  -1.868426            0.0   \n",
       "1467 -1.086676  -1.605183         -0.640727   0.085049            0.0   \n",
       "1468  1.322365   0.546677         -0.887515   0.085049            0.0   \n",
       "1469 -0.320163  -0.432568         -0.147150   0.085049            0.0   \n",
       "\n",
       "      EmployeeNumber  EnvironmentSatisfaction  HourlyRate  JobInvolvement  \\\n",
       "0          -1.701283                -0.660531    1.383138        0.379672   \n",
       "1          -1.699621                 0.254625   -0.240677       -1.026167   \n",
       "2          -1.696298                 1.169781    1.284725       -1.026167   \n",
       "3          -1.694636                 1.169781   -0.486709        0.379672   \n",
       "4          -1.691313                -1.575686   -1.274014        0.379672   \n",
       "...              ...                      ...         ...             ...   \n",
       "1465        1.721670                 0.254625   -1.224807        1.785511   \n",
       "1466        1.723332                 1.169781   -1.175601       -1.026167   \n",
       "1467        1.726655                -0.660531    1.038693        1.785511   \n",
       "1468        1.728317                 1.169781   -0.142264       -1.026167   \n",
       "1469        1.733302                -0.660531    0.792660        1.785511   \n",
       "\n",
       "      JobLevel  ...  RelationshipSatisfaction  StandardHours  \\\n",
       "0    -0.057788  ...                 -1.584178            0.0   \n",
       "1    -0.057788  ...                  1.191438            0.0   \n",
       "2    -0.961486  ...                 -0.658973            0.0   \n",
       "3    -0.961486  ...                  0.266233            0.0   \n",
       "4    -0.961486  ...                  1.191438            0.0   \n",
       "...        ...  ...                       ...            ...   \n",
       "1465 -0.057788  ...                  0.266233            0.0   \n",
       "1466  0.845911  ...                 -1.584178            0.0   \n",
       "1467 -0.057788  ...                 -0.658973            0.0   \n",
       "1468 -0.057788  ...                  1.191438            0.0   \n",
       "1469 -0.057788  ...                 -1.584178            0.0   \n",
       "\n",
       "      StockOptionLevel  TotalWorkingYears  TrainingTimesLastYear  \\\n",
       "0            -0.932014          -0.421642              -2.171982   \n",
       "1             0.241988          -0.164511               0.155707   \n",
       "2            -0.932014          -0.550208               0.155707   \n",
       "3            -0.932014          -0.421642               0.155707   \n",
       "4             0.241988          -0.678774               0.155707   \n",
       "...                ...                ...                    ...   \n",
       "1465          0.241988           0.735447               0.155707   \n",
       "1466          0.241988          -0.293077               1.707500   \n",
       "1467          0.241988          -0.678774              -2.171982   \n",
       "1468         -0.932014           0.735447               0.155707   \n",
       "1469         -0.932014          -0.678774               0.155707   \n",
       "\n",
       "      WorkLifeBalance  YearsAtCompany  YearsInCurrentRole  \\\n",
       "0           -2.493820       -0.164613           -0.063296   \n",
       "1            0.338096        0.488508            0.764998   \n",
       "2            0.338096       -1.144294           -1.167687   \n",
       "3            0.338096        0.161947            0.764998   \n",
       "4            0.338096       -0.817734           -0.615492   \n",
       "...               ...             ...                 ...   \n",
       "1465         0.338096       -0.327893           -0.615492   \n",
       "1466         0.338096       -0.001333            0.764998   \n",
       "1467         0.338096       -0.164613           -0.615492   \n",
       "1468        -1.077862        0.325228            0.488900   \n",
       "1469         1.754054       -0.491174           -0.339394   \n",
       "\n",
       "      YearsSinceLastPromotion  YearsWithCurrManager  \n",
       "0                   -0.679146              0.245834  \n",
       "1                   -0.368715              0.806541  \n",
       "2                   -0.679146             -1.155935  \n",
       "3                    0.252146             -1.155935  \n",
       "4                   -0.058285             -0.595227  \n",
       "...                       ...                   ...  \n",
       "1465                -0.679146             -0.314873  \n",
       "1466                -0.368715              0.806541  \n",
       "1467                -0.679146             -0.314873  \n",
       "1468                -0.679146              1.086895  \n",
       "1469                -0.368715             -0.595227  \n",
       "\n",
       "[1470 rows x 26 columns]"
      ]
     },
     "execution_count": 6,
     "metadata": {},
     "output_type": "execute_result"
    }
   ],
   "source": [
    "### Standardizing the data \n",
    "std_scaler=StandardScaler()\n",
    "\n",
    "df_int_scaled=std_scaler.fit_transform(df_int)\n",
    "df_num_scaled=pd.DataFrame(data=df_int_scaled,columns=df_int.columns,index=df_int.index)\n",
    "df_num_scaled"
   ]
  },
  {
   "cell_type": "code",
   "execution_count": 7,
   "id": "c7076fdb-7ffa-4e78-95f7-5687dcd849a0",
   "metadata": {
    "tags": []
   },
   "outputs": [
    {
     "name": "stdout",
     "output_type": "stream",
     "text": [
      "0    1233\n",
      "1     237\n",
      "Name: Attrition, dtype: int64\n"
     ]
    }
   ],
   "source": [
    "### Preparing for train and test split\n",
    "\n",
    "map={'Yes':1,'No':0}\n",
    "\n",
    "targets=df['Attrition'].apply(lambda x: map[x])\n",
    "print(targets.value_counts())\n",
    "\n",
    "### train test split ###\n",
    "df_indep=pd.concat([df_num_scaled,df_obj],axis=1)"
   ]
  },
  {
   "cell_type": "code",
   "execution_count": 8,
   "id": "5b3bbb87-2e59-4ba9-86fe-faca19a16533",
   "metadata": {
    "tags": []
   },
   "outputs": [
    {
     "name": "stdout",
     "output_type": "stream",
     "text": [
      "\n",
      "Target rate: 16.12%\n",
      "Train split (X & Y): (1176, 47) & (1176,) & target_prop: 15.99%\n",
      "Test split (X & Y): (294, 47) & (294,) & target_prop: 16.67%\n",
      "\n",
      "\n"
     ]
    }
   ],
   "source": [
    "X_train,X_test,y_train,y_test=train_test_split(df_indep,targets,random_state=54,test_size=0.2)\n",
    "print(f'''\n",
    "Target rate: {100*np.mean(targets):.2f}%\n",
    "Train split (X & Y): {X_train.shape} & {y_train.shape} & target_prop: {100*(np.mean(y_train)):.2f}%\n",
    "Test split (X & Y): {X_test.shape} & {y_test.shape} & target_prop: {100*(np.mean(y_test)):.2f}%\n",
    "\n",
    "''')"
   ]
  },
  {
   "cell_type": "markdown",
   "id": "631846e7-92f4-4261-badb-d0f4ed9d4316",
   "metadata": {},
   "source": [
    "Build a adaboost from scratch"
   ]
  },
  {
   "cell_type": "code",
   "execution_count": 9,
   "id": "956a04a2-16fd-45b1-9072-a5cf4ce0e426",
   "metadata": {
    "tags": []
   },
   "outputs": [],
   "source": [
    "class AdaBoost:\n",
    "    def __init__(self, n_estimators=50):\n",
    "        self.n_estimators = n_estimators\n",
    "        self.alphas = []  # Weights for each weak classifier\n",
    "        self.models = []  # Store weak classifiers\n",
    "\n",
    "    def fit(self, X, y):\n",
    "        \"\"\" Train AdaBoost model \"\"\"\n",
    "        n_samples, n_features = X.shape\n",
    "        w = np.ones(n_samples) / n_samples  # Initialize weights equally\n",
    "\n",
    "        for _ in range(self.n_estimators):\n",
    "            model = DecisionTreeClassifier(max_depth=1)  # Weak learner (stump)\n",
    "            model.fit(X, y, sample_weight=w)\n",
    "            y_pred = model.predict(X)\n",
    "\n",
    "            # Compute weighted error\n",
    "            err = np.sum(w * (y_pred != y)) / np.sum(w)\n",
    "\n",
    "            # Compute model weight (alpha)\n",
    "            alpha = 0.5 * np.log((1 - err) / (err + 1e-10))  # Avoid division by zero\n",
    "            self.alphas.append(alpha)\n",
    "            self.models.append(model)\n",
    "\n",
    "            # Update sample weights\n",
    "            w *= np.exp(-alpha * y * y_pred)\n",
    "            w /= np.sum(w)  # Normalize weights\n",
    "\n",
    "    def predict(self, X):\n",
    "        \"\"\" Predict using the AdaBoost model \"\"\"\n",
    "        final_pred = np.zeros(X.shape[0])\n",
    "\n",
    "        for alpha, model in zip(self.alphas, self.models):\n",
    "            final_pred += alpha * model.predict(X)  # Weighted sum of weak classifiers\n",
    "\n",
    "        return np.sign(final_pred)  # Return final classification (-1 or +1)"
   ]
  },
  {
   "cell_type": "code",
   "execution_count": 10,
   "id": "0ec73a57-c92b-4a0b-8236-841f9497168d",
   "metadata": {
    "tags": []
   },
   "outputs": [],
   "source": [
    "adaboost=AdaBoostClassifier(n_estimators=100,learning_rate=1,random_state=42)\n",
    "adaboost_udf=AdaBoost(n_estimators=100)"
   ]
  },
  {
   "cell_type": "code",
   "execution_count": 11,
   "id": "b36990ee-16f9-4a30-99aa-8629df655d22",
   "metadata": {
    "tags": []
   },
   "outputs": [],
   "source": [
    "### Fitting the model\n",
    "adaboost.fit(X_train,y_train)\n",
    "adaboost_udf.fit(X_train,y_train)"
   ]
  },
  {
   "cell_type": "code",
   "execution_count": 12,
   "id": "15eaf8e8-3203-4357-b7c0-384a07b4569b",
   "metadata": {
    "tags": []
   },
   "outputs": [
    {
     "name": "stdout",
     "output_type": "stream",
     "text": [
      "Train confusion matrix & accuracy:92.01%\n",
      "[[966  22]\n",
      " [ 72 116]]\n",
      "Test confusion matrix & accuracy:87.07%\n",
      "[[234  11]\n",
      " [ 27  22]]\n"
     ]
    }
   ],
   "source": [
    "### Predicting model ###\n",
    "y_pred_test=adaboost.predict(X_test)\n",
    "y_pred_train=adaboost.predict(X_train)\n",
    "len(adaboost.predict(X_test))\n",
    "print(f'Train confusion matrix & accuracy:{100*accuracy_score(y_train,y_pred_train):.2f}%')\n",
    "print(confusion_matrix(y_train,y_pred_train))\n",
    "print(f'Test confusion matrix & accuracy:{100*accuracy_score(y_test,y_pred_test):.2f}%')\n",
    "print(confusion_matrix(y_test,y_pred_test))"
   ]
  },
  {
   "cell_type": "code",
   "execution_count": 13,
   "id": "6070013c-8ad6-4c04-a386-46d25a4cb0bb",
   "metadata": {
    "tags": []
   },
   "outputs": [
    {
     "data": {
      "text/plain": [
       "array([[245,   0],\n",
       "       [ 49,   0]], dtype=int64)"
      ]
     },
     "execution_count": 13,
     "metadata": {},
     "output_type": "execute_result"
    }
   ],
   "source": [
    "udf_y_pred=adaboost_udf.predict(X_test)\n",
    "confusion_matrix(y_test,udf_y_pred)"
   ]
  },
  {
   "cell_type": "markdown",
   "id": "4f3ed6c5-d80f-4207-a628-1abb1d8b814b",
   "metadata": {},
   "source": [
    "### Regression Problem\n",
    "\n",
    "Predicting the price of the house from the given data"
   ]
  },
  {
   "cell_type": "code",
   "execution_count": 14,
   "id": "ef1a5932-d275-4eb2-86f3-d31ac6418130",
   "metadata": {
    "tags": []
   },
   "outputs": [
    {
     "data": {
      "text/plain": [
       "(21613, 21)"
      ]
     },
     "execution_count": 14,
     "metadata": {},
     "output_type": "execute_result"
    }
   ],
   "source": [
    "### Importing dataset\n",
    "reg_df=pd.read_csv('kc_house_data.csv')\n",
    "reg_df.shape"
   ]
  },
  {
   "cell_type": "code",
   "execution_count": 15,
   "id": "24058a68-af43-4b1d-a923-bf0465fde3b8",
   "metadata": {
    "tags": []
   },
   "outputs": [],
   "source": [
    "reg_df.isnull().sum()\n",
    "reg_df.dtypes\n",
    "reg_df.drop(['id','date'],axis=1,inplace=True)"
   ]
  },
  {
   "cell_type": "code",
   "execution_count": 16,
   "id": "fde66d58-6ab3-4c76-a28c-012b400dd30d",
   "metadata": {
    "tags": []
   },
   "outputs": [
    {
     "data": {
      "text/plain": [
       "Index(['bedrooms', 'bathrooms', 'sqft_living', 'sqft_lot', 'floors',\n",
       "       'waterfront', 'view', 'condition', 'grade', 'sqft_above',\n",
       "       'sqft_basement', 'yr_built', 'yr_renovated', 'zipcode', 'lat', 'long',\n",
       "       'sqft_living15', 'sqft_lot15'],\n",
       "      dtype='object')"
      ]
     },
     "execution_count": 16,
     "metadata": {},
     "output_type": "execute_result"
    }
   ],
   "source": [
    "reg_df.columns\n",
    "reg_df_num=reg_df.select_dtypes(include=['int64','float64'])\n",
    "reg_df_cat=reg_df.select_dtypes(include=['object'])\n",
    "\n",
    "### Removing target variables\n",
    "reg_df_num.drop('price',axis=1,inplace=True)\n",
    "reg_df_num.columns"
   ]
  },
  {
   "cell_type": "code",
   "execution_count": 17,
   "id": "903ba1c3-1bf4-4acf-9ed3-d17d699fa52a",
   "metadata": {
    "tags": []
   },
   "outputs": [],
   "source": [
    "targets=reg_df.price"
   ]
  },
  {
   "cell_type": "code",
   "execution_count": 18,
   "id": "74f5d222-663c-416e-917c-992c72b38fd4",
   "metadata": {
    "tags": []
   },
   "outputs": [
    {
     "name": "stdout",
     "output_type": "stream",
     "text": [
      "\n",
      "Train split (X & Y): (17290, 18) & (17290,)\n",
      "Test split (X & Y): (4323, 18) & (4323,)\n",
      "\n"
     ]
    }
   ],
   "source": [
    "#### Train test split \n",
    "X_train, X_test, y_train, y_test=train_test_split(reg_df_num,targets,test_size=0.20,random_state=43)\n",
    "print(f'''\n",
    "Train split (X & Y): {X_train.shape} & {y_train.shape}\n",
    "Test split (X & Y): {X_test.shape} & {y_test.shape}\n",
    "''')"
   ]
  },
  {
   "cell_type": "markdown",
   "id": "2070d4a0-c297-48bd-bb18-8859b4a78722",
   "metadata": {},
   "source": [
    "GradientBoostingRegressor: https://scikit-learn.org/stable/modules/generated/sklearn.ensemble.GradientBoostingRegressor.html#"
   ]
  },
  {
   "cell_type": "code",
   "execution_count": 19,
   "id": "78d5c2d2-926b-4348-82e7-024e47a04d29",
   "metadata": {
    "tags": []
   },
   "outputs": [],
   "source": [
    "gbm_reg=GradientBoostingRegressor()"
   ]
  },
  {
   "cell_type": "code",
   "execution_count": 28,
   "id": "fea8010e-45e0-479d-81b7-9428ad4bab4c",
   "metadata": {
    "tags": []
   },
   "outputs": [
    {
     "name": "stdout",
     "output_type": "stream",
     "text": [
      "Execution time: 2.928258 seconds\n"
     ]
    }
   ],
   "source": [
    "### Fitting ###\n",
    "start = time.time()\n",
    "gbm_reg.fit(X_train,y_train)\n",
    "### predict ###\n",
    "predict_reg_train=gbm_reg.predict(X_train)\n",
    "predict_reg_test=gbm_reg.predict(X_test)\n",
    "end = time.time()\n",
    "\n",
    "print(f\"Execution time: {end - start:.6f} seconds\")"
   ]
  },
  {
   "cell_type": "code",
   "execution_count": 33,
   "id": "d074c5d3-55e0-48fb-ae34-639dad08d7dd",
   "metadata": {
    "tags": []
   },
   "outputs": [
    {
     "name": "stdout",
     "output_type": "stream",
     "text": [
      "Training r-squared value:90.052%\n",
      "Test r-squared value:87.484%\n",
      "Root Mean squared error - Train: 114990.00824815263\n",
      "Root Mean squared error - Test: 133392.15413760426\n"
     ]
    }
   ],
   "source": [
    "print(f'Training r-squared value:{100*r2_score(y_train,predict_reg_train):.3f}%')\n",
    "print(f'Test r-squared value:{100*r2_score(y_test,predict_reg_test):.3f}%')\n",
    "print(f'Root Mean squared error - Train: {np.sqrt(mean_squared_error(y_train,predict_reg_train))}')\n",
    "print(f'Root Mean squared error - Test: {np.sqrt(mean_squared_error(y_test,predict_reg_test))}')"
   ]
  },
  {
   "cell_type": "code",
   "execution_count": 83,
   "id": "172feeab-9355-419f-9954-109d37e78728",
   "metadata": {
    "tags": []
   },
   "outputs": [],
   "source": [
    "params_grid ={\n",
    "    'loss':['squared_error', 'absolute_error', 'huber', 'quantile'],\n",
    "    'learning_rate':[0.01,0.1,1],\n",
    "    'max_depth':[2,3,5],\n",
    "    'n_estimators':[50,100,500]\n",
    "}"
   ]
  },
  {
   "cell_type": "code",
   "execution_count": null,
   "id": "941447ba-d3d3-45af-ad35-c548620d76f1",
   "metadata": {
    "tags": []
   },
   "outputs": [],
   "source": [
    "grid_search=GridSearchCV(estimator=gbm_reg,param_grid=params_grid,scoring='accuracy',cv=3,n_jobs=1,return_train_score=True)\n",
    "grid_search.fit(X_train,y_train)"
   ]
  },
  {
   "cell_type": "code",
   "execution_count": 68,
   "id": "359b6b5c-882f-4d61-be7e-b10e6f7fe4d9",
   "metadata": {
    "tags": []
   },
   "outputs": [
    {
     "data": {
      "text/html": [
       "<div>\n",
       "<style scoped>\n",
       "    .dataframe tbody tr th:only-of-type {\n",
       "        vertical-align: middle;\n",
       "    }\n",
       "\n",
       "    .dataframe tbody tr th {\n",
       "        vertical-align: top;\n",
       "    }\n",
       "\n",
       "    .dataframe thead th {\n",
       "        text-align: right;\n",
       "    }\n",
       "</style>\n",
       "<table border=\"1\" class=\"dataframe\">\n",
       "  <thead>\n",
       "    <tr style=\"text-align: right;\">\n",
       "      <th></th>\n",
       "      <th>0</th>\n",
       "    </tr>\n",
       "  </thead>\n",
       "  <tbody>\n",
       "    <tr>\n",
       "      <th>0</th>\n",
       "      <td>548171.222577</td>\n",
       "    </tr>\n",
       "    <tr>\n",
       "      <th>1</th>\n",
       "      <td>512162.256063</td>\n",
       "    </tr>\n",
       "    <tr>\n",
       "      <th>2</th>\n",
       "      <td>577809.272141</td>\n",
       "    </tr>\n",
       "    <tr>\n",
       "      <th>3</th>\n",
       "      <td>908335.988585</td>\n",
       "    </tr>\n",
       "    <tr>\n",
       "      <th>4</th>\n",
       "      <td>455162.832380</td>\n",
       "    </tr>\n",
       "    <tr>\n",
       "      <th>...</th>\n",
       "      <td>...</td>\n",
       "    </tr>\n",
       "    <tr>\n",
       "      <th>4318</th>\n",
       "      <td>455162.832380</td>\n",
       "    </tr>\n",
       "    <tr>\n",
       "      <th>4319</th>\n",
       "      <td>476050.080448</td>\n",
       "    </tr>\n",
       "    <tr>\n",
       "      <th>4320</th>\n",
       "      <td>521295.057527</td>\n",
       "    </tr>\n",
       "    <tr>\n",
       "      <th>4321</th>\n",
       "      <td>540038.512164</td>\n",
       "    </tr>\n",
       "    <tr>\n",
       "      <th>4322</th>\n",
       "      <td>513701.495918</td>\n",
       "    </tr>\n",
       "  </tbody>\n",
       "</table>\n",
       "<p>4323 rows × 1 columns</p>\n",
       "</div>"
      ],
      "text/plain": [
       "                  0\n",
       "0     548171.222577\n",
       "1     512162.256063\n",
       "2     577809.272141\n",
       "3     908335.988585\n",
       "4     455162.832380\n",
       "...             ...\n",
       "4318  455162.832380\n",
       "4319  476050.080448\n",
       "4320  521295.057527\n",
       "4321  540038.512164\n",
       "4322  513701.495918\n",
       "\n",
       "[4323 rows x 1 columns]"
      ]
     },
     "execution_count": 68,
     "metadata": {},
     "output_type": "execute_result"
    }
   ],
   "source": [
    "grid_df=pd.DataFrame(grid_search.predict(X_test))\n",
    "grid_df"
   ]
  },
  {
   "cell_type": "code",
   "execution_count": 73,
   "id": "4fdd7d75-ccc6-4678-a49d-ea67ce6b0cd0",
   "metadata": {
    "tags": []
   },
   "outputs": [
    {
     "data": {
      "text/plain": [
       "{'learning_rate': 0.01,\n",
       " 'loss': 'squared_error',\n",
       " 'max_depth': 2,\n",
       " 'n_estimators': 50}"
      ]
     },
     "execution_count": 73,
     "metadata": {},
     "output_type": "execute_result"
    }
   ],
   "source": [
    "grid_search.best_params_"
   ]
  },
  {
   "cell_type": "code",
   "execution_count": 78,
   "id": "8b9ede60-ed84-4446-9bbb-438079fdb042",
   "metadata": {
    "tags": []
   },
   "outputs": [
    {
     "data": {
      "text/plain": [
       "GradientBoostingRegressor(learning_rate=0.01, max_depth=2, n_estimators=1000)"
      ]
     },
     "execution_count": 78,
     "metadata": {},
     "output_type": "execute_result"
    }
   ],
   "source": [
    "best_gbm=GradientBoostingRegressor(learning_rate= 0.01,\n",
    " loss= 'squared_error',\n",
    " max_depth= 2,\n",
    " n_estimators= 1000)\n",
    "best_gbm.fit(X_train,y_train)"
   ]
  },
  {
   "cell_type": "code",
   "execution_count": 79,
   "id": "863139c8-c62a-4800-9a73-e07a9bf44a31",
   "metadata": {
    "tags": []
   },
   "outputs": [
    {
     "name": "stdout",
     "output_type": "stream",
     "text": [
      "Training r-squared value:85.820%\n",
      "Test r-squared value:83.380%\n",
      "Root Mean squared error - Train: 137291.6265761667\n",
      "Root Mean squared error - Test: 153713.4501132763\n"
     ]
    }
   ],
   "source": [
    "### predict ###\n",
    "predict_best_train=best_gbm.predict(X_train)\n",
    "predict_best_test=best_gbm.predict(X_test)\n",
    "print(f'Training r-squared value:{100*r2_score(y_train,predict_best_train):.3f}%')\n",
    "print(f'Test r-squared value:{100*r2_score(y_test,predict_best_test):.3f}%')\n",
    "print(f'Root Mean squared error - Train: {np.sqrt(mean_squared_error(y_train,predict_best_train))}')\n",
    "print(f'Root Mean squared error - Test: {np.sqrt(mean_squared_error(y_test,predict_best_test))}')"
   ]
  },
  {
   "cell_type": "code",
   "execution_count": null,
   "id": "528051e3-9747-4ced-8856-918087d829e2",
   "metadata": {},
   "outputs": [],
   "source": []
  }
 ],
 "metadata": {
  "kernelspec": {
   "display_name": "Python 3 (ipykernel)",
   "language": "python",
   "name": "python3"
  },
  "language_info": {
   "codemirror_mode": {
    "name": "ipython",
    "version": 3
   },
   "file_extension": ".py",
   "mimetype": "text/x-python",
   "name": "python",
   "nbconvert_exporter": "python",
   "pygments_lexer": "ipython3",
   "version": "3.7.4"
  }
 },
 "nbformat": 4,
 "nbformat_minor": 5
}
