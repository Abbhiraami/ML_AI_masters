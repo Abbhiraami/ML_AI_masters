{
 "cells": [
  {
   "cell_type": "markdown",
   "id": "d65e702f-83f2-42a0-93cf-6ef9934c0210",
   "metadata": {},
   "source": [
    "#### Model Selection "
   ]
  },
  {
   "cell_type": "code",
   "execution_count": null,
   "id": "f48b41ae-cadc-4e9a-bc87-c03c1f07c34a",
   "metadata": {
    "tags": []
   },
   "outputs": [],
   "source": [
    "import pandas as pd\n",
    "import numpy as np\n",
    "import matplotlib.pyplot as pp\n",
    "from sklearn.model_selection import train_test_split \n",
    "from sklearn.preprocessing import PolynomialFeatures, StandardScaler, MinMaxScaler\n",
    "from sklearn.linear_model import LinearRegression, Lasso, Ridge\n",
    "from sklearn.pipeline import make_pipeline\n",
    "from sklearn.metrics import r2_score"
   ]
  },
  {
   "cell_type": "code",
   "execution_count": null,
   "id": "e0f8e805-23dc-499e-a1c9-09c0d00f1f51",
   "metadata": {
    "tags": []
   },
   "outputs": [],
   "source": [
    "data=pd.read_csv('model_selection_data.csv')\n",
    "data.head(2)"
   ]
  },
  {
   "cell_type": "code",
   "execution_count": null,
   "id": "e84c62d5-4c4e-40b6-9a70-07d044288077",
   "metadata": {},
   "outputs": [],
   "source": [
    "# The Boston Housing Dataset \n",
    "# The Boston Housing Dataset is a derived from information collected by the U.S. Census Service concerning housing in the area of Boston MA. \n",
    "# The following describes the dataset columns: \n",
    "# CRIM - per capita crime rate by town \n",
    "# ZN - proportion of residential land zoned for lots over 25,000 sq.ft. \n",
    "# INDUS - proportion of non-retail business acres per town. \n",
    "# CHAS - Charles River dummy variable (1 if tract bounds river; 0 otherwise) \n",
    "# NOX - nitric oxides concentration (parts per 10 million) \n",
    "# RM - average number of rooms per dwelling \n",
    "# AGE - proportion of owner-occupied units built prior to 1940\n",
    "# DIS - weighted distances to five Boston employment centres \n",
    "# RAD - index of accessibility to radial highways \n",
    "# TAX - full-value property-tax rate per $10,000 \n",
    "# PTRATIO - pupil-teacher ratio by town \n",
    "# B - 1000(Bk - 0.63)^2 where Bk is the proportion of blacks by town \n",
    "# LSTAT - % lower status of the population \n",
    "# Target - Median value of owner-occupied homes in $1000's"
   ]
  },
  {
   "cell_type": "code",
   "execution_count": null,
   "id": "58d31419-6861-4841-8aa0-5b7ab93967c2",
   "metadata": {
    "tags": []
   },
   "outputs": [],
   "source": [
    "### Checking missing values\n",
    "# data.info()\n",
    "data.isnull().sum()\n",
    "data.columns"
   ]
  },
  {
   "cell_type": "code",
   "execution_count": null,
   "id": "f3f85045-3704-4470-85e7-2ab61bfb8b22",
   "metadata": {
    "tags": []
   },
   "outputs": [],
   "source": [
    "X_train,X_test,Y_train,Y_test=train_test_split(data.loc[:, ~data.columns.isin(['Target'])],data['Target'],test_size=0.2,random_state=190)"
   ]
  },
  {
   "cell_type": "markdown",
   "id": "955a1fe3-3e77-4041-8b84-ef0cc90e6f1b",
   "metadata": {},
   "source": [
    "### Base Model"
   ]
  },
  {
   "cell_type": "code",
   "execution_count": null,
   "id": "e77f0021-42c8-46de-b382-ce04505914ce",
   "metadata": {
    "tags": []
   },
   "outputs": [],
   "source": [
    "linear_reg_pipeline=make_pipeline(StandardScaler(),PolynomialFeatures(degree=2),LinearRegression())\n",
    "linear_reg_pipeline_train=linear_reg_pipeline.fit(X_train,Y_train)"
   ]
  },
  {
   "cell_type": "code",
   "execution_count": null,
   "id": "8a3a0c4b-6d42-4ff0-a7a3-75e4cd3bd0bb",
   "metadata": {
    "tags": []
   },
   "outputs": [],
   "source": [
    "# Prediction\n",
    "y_pred_lr_train=linear_reg_pipeline_train.predict(X_train)\n",
    "y_pred_lr_test=linear_reg_pipeline_train.predict(X_test)\n"
   ]
  },
  {
   "cell_type": "code",
   "execution_count": null,
   "id": "6236ffce-4260-43e8-8044-b73da4984450",
   "metadata": {
    "tags": []
   },
   "outputs": [],
   "source": [
    "# R2 Calaculions\n",
    "print(f'Train R-squared value:')\n",
    "r2_linear_reg_train=r2_score(Y_train,y_pred_lr_train)\n",
    "print(round(r2_linear_reg_train*100,2))\n",
    "print(f'Test R-squared value:')\n",
    "r2_linear_reg_test=r2_score(Y_test,y_pred_lr_test)\n",
    "print(round(r2_linear_reg_test*100,2))\n",
    "print(f'The difference in train and test r2_score: {(r2_linear_reg_train-r2_linear_reg_test)*100:.2f}%')"
   ]
  },
  {
   "cell_type": "markdown",
   "id": "516c4922-e1b3-40c1-9855-faa33cc80450",
   "metadata": {},
   "source": [
    "The above is extremely overfitted!!!"
   ]
  },
  {
   "cell_type": "markdown",
   "id": "5aad0f8a-4c33-481e-93e3-7f58c3c65882",
   "metadata": {},
   "source": [
    "### Model 2"
   ]
  },
  {
   "cell_type": "code",
   "execution_count": null,
   "id": "2586853d-6972-4bf4-92e1-0c830906c3f7",
   "metadata": {
    "tags": []
   },
   "outputs": [],
   "source": [
    "alpha=250\n",
    "ridge_reg_pipeline=make_pipeline(StandardScaler(),PolynomialFeatures(degree=2),Ridge(alpha))\n",
    "ridge_reg_pipeline_train=ridge_reg_pipeline.fit(X_train,Y_train)"
   ]
  },
  {
   "cell_type": "code",
   "execution_count": null,
   "id": "bb7be601-b35a-47a8-ae02-ce7c8a1425ff",
   "metadata": {
    "tags": []
   },
   "outputs": [],
   "source": [
    "# Prediction\n",
    "y_pred_ridge_train=ridge_reg_pipeline_train.predict(X_train)\n",
    "y_pred_riidge_test=ridge_reg_pipeline_train.predict(X_test)\n"
   ]
  },
  {
   "cell_type": "code",
   "execution_count": null,
   "id": "d3c5cd4f-be3c-44fa-b90f-a5dce8f491ac",
   "metadata": {
    "tags": []
   },
   "outputs": [],
   "source": [
    "# R2 Calaculions\n",
    "print(f'Train R-squared value:')\n",
    "r2_ridge_train=r2_score(Y_train,y_pred_ridge_train)\n",
    "print(round(r2_ridge_train*100,2))\n",
    "print(f'Test R-squared value:')\n",
    "r2_ridge_test=r2_score(Y_test,y_pred_riidge_test)\n",
    "print(round(r2_ridge_test*100,2))\n",
    "print(f'At alpha:{alpha}, The difference in train and test r2_score: {(r2_ridge_train-r2_ridge_test)*100:.2f}%')"
   ]
  },
  {
   "cell_type": "markdown",
   "id": "748c9d60-e2ca-4b69-ab6d-9ccc6a5f472d",
   "metadata": {},
   "source": [
    "### Model 3"
   ]
  },
  {
   "cell_type": "code",
   "execution_count": null,
   "id": "71f1c7c1-3ca5-4fd2-9506-3ad48d3e7b96",
   "metadata": {
    "tags": []
   },
   "outputs": [],
   "source": [
    "alpha=0.35\n",
    "ridge_reg_pipeline=make_pipeline(MinMaxScaler(),PolynomialFeatures(degree=2),Ridge(alpha))\n",
    "ridge_reg_pipeline_train=ridge_reg_pipeline.fit(X_train,Y_train)"
   ]
  },
  {
   "cell_type": "code",
   "execution_count": null,
   "id": "656e579e-315d-48b7-b3db-6def5eb7c380",
   "metadata": {
    "tags": []
   },
   "outputs": [],
   "source": [
    "# Prediction\n",
    "y_pred_ridge_train=ridge_reg_pipeline_train.predict(X_train)\n",
    "y_pred_riidge_test=ridge_reg_pipeline_train.predict(X_test)\n"
   ]
  },
  {
   "cell_type": "code",
   "execution_count": null,
   "id": "562d3b0e-b149-4585-960e-c0cd8869beec",
   "metadata": {
    "tags": []
   },
   "outputs": [],
   "source": [
    "# R2 Calaculions\n",
    "print(f'Train R-squared value:')\n",
    "r2_ridge_train=r2_score(Y_train,y_pred_ridge_train)\n",
    "print(round(r2_ridge_train*100,2))\n",
    "print(f'Test R-squared value:')\n",
    "r2_ridge_test=r2_score(Y_test,y_pred_riidge_test)\n",
    "print(round(r2_ridge_test*100,2))\n",
    "print(f'At alpha:{alpha}, The difference in train and test r2_score: {(r2_ridge_train-r2_ridge_test)*100:.2f}%')"
   ]
  },
  {
   "cell_type": "markdown",
   "id": "6b91c395-024d-4880-9d81-980ae06a4f93",
   "metadata": {},
   "source": [
    "### Model 4 - Lasso"
   ]
  },
  {
   "cell_type": "code",
   "execution_count": null,
   "id": "d9709754-883d-4378-a41c-09606d44fc57",
   "metadata": {
    "tags": []
   },
   "outputs": [],
   "source": [
    "alpha=0.015\n",
    "lasso_reg_pipeline=make_pipeline(StandardScaler(),PolynomialFeatures(degree=2),Lasso(alpha))\n",
    "lasso_reg_pipeline_train=lasso_reg_pipeline.fit(X_train,Y_train)"
   ]
  },
  {
   "cell_type": "code",
   "execution_count": null,
   "id": "6636ae5d-394e-44c4-97c9-f2ddb8bf9ad1",
   "metadata": {
    "tags": []
   },
   "outputs": [],
   "source": [
    "# Prediction\n",
    "y_pred_lasso_train=lasso_reg_pipeline_train.predict(X_train)\n",
    "y_pred_lasso_test=lasso_reg_pipeline_train.predict(X_test)\n"
   ]
  },
  {
   "cell_type": "code",
   "execution_count": null,
   "id": "0c234951-4e04-4bf3-9d5a-a1c14c597a66",
   "metadata": {
    "tags": []
   },
   "outputs": [],
   "source": [
    "# R2 Calaculions\n",
    "print(f'Train R-squared value:')\n",
    "r2_lasso_train=r2_score(Y_train,y_pred_lasso_train)\n",
    "print(round(r2_lasso_train*100,2))\n",
    "print(f'Test R-squared value:')\n",
    "r2_lasso_test=r2_score(Y_test,y_pred_lasso_test)\n",
    "print(round(r2_lasso_test*100,2))\n",
    "print(f'At alpha:{alpha}, The difference in train and test r2_score: {(r2_lasso_train-r2_lasso_test)*100:.2f}%')"
   ]
  },
  {
   "cell_type": "markdown",
   "id": "e7141cbb-15aa-4715-8631-05aca161b80d",
   "metadata": {},
   "source": [
    "### Model 5 - Lasso with Minmax scaler"
   ]
  },
  {
   "cell_type": "code",
   "execution_count": null,
   "id": "10b9939b-3282-474d-ac82-3102b3641796",
   "metadata": {
    "tags": []
   },
   "outputs": [],
   "source": [
    "alpha=.025\n",
    "lasso_reg_pipeline=make_pipeline(MinMaxScaler(),PolynomialFeatures(degree=2),Lasso(alpha))\n",
    "lasso_reg_pipeline_train=lasso_reg_pipeline.fit(X_train,Y_train)"
   ]
  },
  {
   "cell_type": "code",
   "execution_count": null,
   "id": "ddd0de46-14fe-47d1-993c-3d9744879e3c",
   "metadata": {
    "tags": []
   },
   "outputs": [],
   "source": [
    "# Prediction\n",
    "y_pred_lasso_train=lasso_reg_pipeline_train.predict(X_train)\n",
    "y_pred_lasso_test=lasso_reg_pipeline_train.predict(X_test)\n"
   ]
  },
  {
   "cell_type": "code",
   "execution_count": null,
   "id": "1c613f8f-d108-46e8-bc19-e569821381c9",
   "metadata": {
    "tags": []
   },
   "outputs": [],
   "source": [
    "# R2 Calaculions\n",
    "print(f'Train R-squared value:')\n",
    "r2_lasso_train=r2_score(Y_train,y_pred_lasso_train)\n",
    "print(round(r2_lasso_train*100,2))\n",
    "print(f'Test R-squared value:')\n",
    "r2_lasso_test=r2_score(Y_test,y_pred_lasso_test)\n",
    "print(round(r2_lasso_test*100,2))\n",
    "print(f'At alpha:{alpha}, The difference in train and test r2_score: {(r2_lasso_train-r2_lasso_test)*100:.2f}%')"
   ]
  },
  {
   "cell_type": "markdown",
   "id": "11cbe111-7f43-4f96-b518-56c1a3f68c5e",
   "metadata": {},
   "source": [
    "### Model Selection"
   ]
  },
  {
   "cell_type": "markdown",
   "id": "17fdf63b-7ae2-4efa-86fe-993dcca14b05",
   "metadata": {},
   "source": [
    "- Linear Regression (Baseline model) : Train(94.08%) Test(80.83%) - 11.6% - Rejected\n",
    "- Ridge Regression  (StandardScaler,alpha=250): Train(84.55) Test(80.97) - 3.58% - \n",
    "- Ridge Regression  (MinMaxScaler,alpha=0.35): Train(89.24) Test(85.90) - 3.34% -Selected - Less performance compared the below model we can reject\n",
    "- Lasso  (StandardScaler,alpha=0.015): Train(92.12) Test(90.73) - 1.40% - Selected - High performing and less overfitted \n",
    "- Lasso  (MinMaxScaler,alpha=0.025): Train(82.45) Test(84.16) - -1.74% - Rejected as the train r2 < test r2\n",
    "\n"
   ]
  },
  {
   "cell_type": "code",
   "execution_count": null,
   "id": "71f78b2f-c259-4d67-98c3-5f034b738efc",
   "metadata": {},
   "outputs": [],
   "source": []
  }
 ],
 "metadata": {
  "kernelspec": {
   "display_name": "Python 3 (ipykernel)",
   "language": "python",
   "name": "python3"
  },
  "language_info": {
   "codemirror_mode": {
    "name": "ipython",
    "version": 3
   },
   "file_extension": ".py",
   "mimetype": "text/x-python",
   "name": "python",
   "nbconvert_exporter": "python",
   "pygments_lexer": "ipython3",
   "version": "3.7.4"
  }
 },
 "nbformat": 4,
 "nbformat_minor": 5
}
