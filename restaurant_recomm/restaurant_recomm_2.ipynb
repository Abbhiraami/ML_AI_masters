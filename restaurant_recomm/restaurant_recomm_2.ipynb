{
 "cells": [
  {
   "cell_type": "markdown",
   "id": "f41bd5a5",
   "metadata": {},
   "source": [
    "### Restaurant Recommendation - Custom Chatbot\n",
    "\n",
    "Building chatbot that helps users find the perfect restaurant for any occasion. It can consider factors like cuisine preferences, dietary restrictions, location, and user reviews to make tailored recommendations.\n",
    "\n",
    "1. Collect the data for restaurant details from open data sources\n",
    "2. Exploratory Data Analysis to know the dataset - To make the chatbot perform better in terms laying gaurdrails \n",
    "  - Identifying the columns required to base the recommendation assistant\n",
    "  - Missing data evaluation to handle or ignore \n",
    "  - Finalizing the features for chatbot\n",
    "3. Building the chatbot that recommends top 3 restaurants based on perferences\n",
    "  - User intent clarification - bot gathering information from user\n",
    "  - Mapping the perferences with restaurant\n",
    "  - Recommending top 3 restaurant based on requirements"
   ]
  },
  {
   "cell_type": "code",
   "execution_count": 1,
   "id": "4b1fe204",
   "metadata": {},
   "outputs": [],
   "source": [
    "# ! pip uninstall openai -y\n",
    "# ! pip install --upgrade openai\n"
   ]
  },
  {
   "cell_type": "code",
   "execution_count": 2,
   "id": "12081583",
   "metadata": {},
   "outputs": [],
   "source": [
    "## importing libraries for openai and pandas \n",
    "# ! pip install openai==0.28\n",
    "# import openai\n",
    "from openai import OpenAI\n",
    "# client = OpenAI()\n",
    "\n",
    "import pandas as pd\n",
    "import numpy as np\n",
    "import matplotlib.pyplot as plt\n",
    "import seaborn as sns\n",
    "import regex as re\n",
    "\n",
    "### importing other libraries for proressing \n",
    "import json, ast\n",
    "import os\n",
    "import warnings\n",
    "warnings.filterwarnings(\"ignore\")\n",
    "\n",
    "#### Setting the OpenAI key\n",
    "with open(\"C:/Users/SHAMBHAVVISEN/Downloads/OpenAI_API_Key.txt\") as f:\n",
    "    api = f.read().strip()\n",
    "\n",
    "client = OpenAI(api_key=api)\n",
    "\n"
   ]
  },
  {
   "cell_type": "markdown",
   "id": "0682332d",
   "metadata": {},
   "source": [
    "### 1. Selected dataset is bengaluru restaurants"
   ]
  },
  {
   "cell_type": "code",
   "execution_count": 3,
   "id": "91bec8a6",
   "metadata": {},
   "outputs": [],
   "source": [
    "## The chosen dataset is bengaluru restaurants dataset\n",
    "beng_restaurants = pd.read_csv('bengaluru_restaurants.csv')\n",
    "beng_restaurants.shape\n",
    "## Renaming the columns for better readability\n",
    "beng_restaurants.columns=beng_restaurants.columns.str.replace(' ',\"\")"
   ]
  },
  {
   "cell_type": "markdown",
   "id": "b6f595c1",
   "metadata": {},
   "source": [
    "### 2. Exploratory Data Analysis  for the chosen dataset"
   ]
  },
  {
   "cell_type": "code",
   "execution_count": 5,
   "id": "7ff290a1",
   "metadata": {},
   "outputs": [
    {
     "name": "stdout",
     "output_type": "stream",
     "text": [
      "List of columns in the dataset:\n",
      "- name - <class 'str'>\n",
      "- address - <class 'str'>\n",
      "- addressObj/country - <class 'str'>\n",
      "- addressObj/postalcode - <class 'str'>\n",
      "- addressObj/state - <class 'str'>\n",
      "- cuisine - <class 'str'>\n",
      "- description - <class 'str'>\n",
      "- DietaryRestrictions - <class 'str'>\n",
      "- Dishes - <class 'str'>\n",
      "- Features - <class 'str'>\n",
      "- latitude - <class 'str'>\n",
      "- longitude - <class 'str'>\n",
      "- localAddress - <class 'str'>\n",
      "- MealType - <class 'str'>\n",
      "- numberOfReviews - <class 'str'>\n",
      "- phone - <class 'str'>\n",
      "- rankingDenominator - <class 'str'>\n",
      "- rankingPosition - <class 'str'>\n",
      "- rating - <class 'str'>\n",
      "- rawRanking - <class 'str'>\n"
     ]
    }
   ],
   "source": [
    "### list of columns in the dataset with formatting\n",
    "print(\"List of columns in the dataset:\")\n",
    "for col in beng_restaurants.columns:\n",
    "    print(f\"- {col} - {type(col)}\")\n",
    "\n",
    "###\n",
    "def convert_str_to_float(data,column_names=list):\n",
    "\n",
    "    \"\"\"Convert a string to float, handling commas and empty strings.\"\"\"\n",
    "\n",
    "    for col in column_names:\n",
    "        data[col]=np.round(data[col].astype('float64',errors='ignore'),2)\n",
    "    return data\n",
    "### convert the columns that has string values to float\n",
    "beng_restaurants=convert_str_to_float(beng_restaurants,\n",
    "                                      column_names=['numberOfReviews','rating','rankingDenominator',\n",
    "                                                     'rankingPosition','rawRanking','latitude','longitude']\n",
    "                                      )"
   ]
  },
  {
   "cell_type": "markdown",
   "id": "05e370c9",
   "metadata": {},
   "source": [
    "**The relevant set of columns from the data are:**\n",
    "- name\n",
    "\n",
    "**To understand the eating perference**\n",
    "- cuisine\n",
    "- DietaryRestrictions \n",
    "\n",
    "**To understand the location perference**\n",
    "- localAddress\n",
    "- latitude\n",
    "- longitude\n",
    "\n",
    "**To understand the occassion**\n",
    "- MealType\n",
    "\n",
    "**Recommendation validation metrices**\n",
    "- numberofReviews\n",
    "- rating\n",
    "- RankingDemoniator\n",
    "- rawRanking\n"
   ]
  },
  {
   "cell_type": "code",
   "execution_count": 6,
   "id": "6ed74ec6",
   "metadata": {},
   "outputs": [
    {
     "name": "stdout",
     "output_type": "stream",
     "text": [
      "Missing info in the dataset:\n",
      "(4110, 11)\n",
      "Missing data evaluation:\n",
      "name                    0.000000\n",
      "cuisine                 0.000000\n",
      "DietaryRestrictions     0.000000\n",
      "localAddress            0.000000\n",
      "latitude                3.541061\n",
      "longitude               3.541061\n",
      "numberOfReviews         0.000000\n",
      "rating                 41.007427\n",
      "rankingDenominator     40.856743\n",
      "rankingPosition        40.856743\n",
      "rawRanking             40.856743\n",
      "dtype: float64\n"
     ]
    }
   ],
   "source": [
    "### Missing data analysis\n",
    "columns_of_interest=[\"name\",\"cuisine\",\"DietaryRestrictions\",\"localAddress\",\"latitude\",\"longitude\",\n",
    "                     \"numberOfReviews\",\"rating\",\"rankingDenominator\",\"rankingPosition\",\"rawRanking\"]\n",
    "print(\"Missing info in the dataset:\")\n",
    "print(beng_restaurants[beng_restaurants[columns_of_interest].isnull().any(axis=1)][columns_of_interest].shape)\n",
    "\n",
    "### Mising data evaluation\n",
    "print(\"Missing data evaluation:\")\n",
    "print(beng_restaurants[columns_of_interest].isnull().sum()/beng_restaurants.shape[0]*100)"
   ]
  },
  {
   "cell_type": "markdown",
   "id": "21ab1323",
   "metadata": {},
   "source": [
    "#### Data Visualization"
   ]
  },
  {
   "cell_type": "code",
   "execution_count": 7,
   "id": "aa0fce0d",
   "metadata": {},
   "outputs": [],
   "source": [
    "## FInding out the number of unique cuisines available in each dataset\n",
    "def unique_vars_visualization(data=None,column=None):\n",
    "    data['cuisines_list']=data[column]#.apply(lambda x: [i.strip() for i in x])\n",
    "    df_cusines=pd.DataFrame(data['cuisines_list'].value_counts())\n",
    "    df_cusines.reset_index(inplace=True)\n",
    "    df_cusines.columns=['Cuisines','Count']\n",
    "\n",
    "    fig=plt.figure(figsize=(10,5))\n",
    "    sns.barplot(x='Count',y='Cuisines',data=df_cusines.head(30),palette='viridis')\n",
    "    plt.title(column+' - Top 20 '+'('+str(df_cusines.shape[0])+' Cuisines'+')')\n",
    "    plt.show()"
   ]
  },
  {
   "cell_type": "code",
   "execution_count": 8,
   "id": "f46905f8",
   "metadata": {},
   "outputs": [],
   "source": [
    "beng_restaurants.to_csv('bengaluru_restaurants_cleaned.csv',index=False)"
   ]
  },
  {
   "cell_type": "markdown",
   "id": "943f312b",
   "metadata": {},
   "source": [
    "Column of interests are within the missing threshold band of 50%. Hence going ahead with the available data unchanged. Because in the event of filtering these missing values are going to ignored anyways, so choosing to not handle them."
   ]
  },
  {
   "cell_type": "markdown",
   "id": "ae4a0963",
   "metadata": {},
   "source": [
    "#### Building a restaurant recommendation chatbot\n",
    "\n",
    "1. Stage 1 - Gather user's perferences - Intent clarification, extract the dictionary from the string\n",
    "2. Stage 2 - Preference mapping - Map the perference with data\n",
    "3. Step  3 - Recommendation of Restaurants\n",
    "4. Step  4 - Evaluation of the obtained results"
   ]
  },
  {
   "cell_type": "markdown",
   "id": "63974e67",
   "metadata": {},
   "source": [
    "### Invoking conversation by prompt engineering "
   ]
  },
  {
   "cell_type": "code",
   "execution_count": 9,
   "id": "58e594f0",
   "metadata": {},
   "outputs": [],
   "source": [
    "def initialize_conversation():\n",
    "    delimiter = \"####\"\n",
    "\n",
    "    system_message = f\"\"\"\n",
    "    You are an expert in recommending restaurants based on user personal preferences and requirements.\n",
    "    Your task is to recommend top three restaurants based on user's perferences and requirements.\n",
    "    You will ask questions to understand the user's profile and requirements two questions per conversation until you have enoughh information to recommend the top three restaurants. \n",
    "    If the user mentions 'vegetarian', 'vegan', or 'gluten-free', treat them as dietary restrictions and store them under DietaryRestrictions feature.\n",
    "    If the user mentions 'breakfast', 'lunch', or 'dinner', treat them as meal type and store them under meal type feature.\n",
    "    If the user mentions their current location, store it under current location feature.\n",
    "    If the user mentions their preferred location, store it under preferred location feature.\n",
    "    Try to understand the user's requirements based on features: ('cuisine','meal type', 'DietaryRestrictions', 'current location', 'preferred location').\n",
    "    Don't ask any questions if the user has already provided enough information to recommend the top three restaurants. Display the user info in a dictionary format.\n",
    "    Calculate the distance from the user's current location to the preferred location, if provided.\n",
    "    If the user has not provided their current location, ask for it.\n",
    "    If the user has not provided their preferred location, ask for it.\n",
    "    calculate the latitude and longitude of the user's current location and preferred location, if provided. else get it from the user\n",
    "    If the user has not provided enough information, ask questions to clarify their needs.\n",
    "    If the user has provided enough information, recommend the top three restaurants based on their preferences by matching the dataset available and requirements. \n",
    "    \n",
    "    \n",
    "    {delimiter} \n",
    "    Here are certain guidelines that you need to follow:\n",
    "    Don't ask questions when all the features ('cuisine','meal type','DietaryRestrictions', 'current location', 'preferred location') are already provided by the user\n",
    "    Don't ask questions about more than 2 features at a time.\n",
    "    The recommendations are only restricted to bangalore restaurants, other locations are not supported. \n",
    "    Incase of other locations, please mention that you are not able to recommend restaurants outside of bangalore.\n",
    "    Recommend the top3 restaurants in the following format:\n",
    "    Start with a brief summary of each restaurants in the following format, in decreasing order of rating and ascending order of distance from the current location:\n",
    "    1. <Restaurant Name> : <Dishes served, cuisne >, <ratings and number of reviews> <distance from current location in km>\n",
    "    2. <Restaurant Name> : <Dishes served, cuisne >, <ratings and number of reviews> <distance from current location in km>\n",
    "    3. <Restaurant Name> : <Dishes served, cuisne >, <ratings and number of reviews> <distance from current location in km>\n",
    "    {delimiter}\n",
    "\n",
    "    {delimiter}To find the top3 restaurants, you need to have the following chain of thoughts:\n",
    "    Thought 1: Ask one question to understand the user's profile and requirements. \\n\n",
    "    If their primary perference for the cuisine is unclear. Ask another question to comprehend their needs.\n",
    "    Answer \"Yes\" or \"No\" to indicate if you understand the requirements. \\n\n",
    "    If yes, proceed to the next step. Otherwise, rephrase the question to capture their profile. \\n\n",
    "\n",
    "    Thought 2: Now, you are trying to understand the requirements for other features which you couldn't in the previous step.\n",
    "    Ask questions to strengthen your understanding of the user's profile.\n",
    "    Don't ask questions about more than 2 features at a time.\n",
    "    Answer \"Yes\" or \"No\" to indicate if you understood all the needs of the features and are confident about the same.\n",
    "    If yes, move to the next Thought. If no, ask question on the features whose needs you are unsure of. \\n\n",
    "    It is a good practice to ask question with a sound logic as opposed to directly citing the feature you want to understand the need for.\n",
    "    \n",
    "    Thought 3: Now, if the user dos not have any perferences for any of the features after above two steps. you can consider those features types as \"NA\"\n",
    "    and proceed to finalize the user profile and requirements.\n",
    "    Make the recommendations by mapping the user profile and requirements with the dataset from bengaluru restaurants.\n",
    "\n",
    "    Thought 4: Now, you have the user profile and requirements in a json format. You can use this to recommend the top three restaurants based on the user's preferences.\n",
    "\n",
    "    {delimiter}\n",
    "    {delimiter}\n",
    "\n",
    "    {delimiter} Here is a sample conversation between the user and assistant:\n",
    "    Assistant: \"Hello! I'm here to help you find the perfect restaurant for any occassions that suits your perferences. Could you please share your requirements?\"\n",
    "    User: \"Hi, I would like to have an exquisite Italian style paste near Indhira nagar.\"\n",
    "    Assistant: \"Great! I understand that you are looking for an Italian restaurant near Indhira Nagar. Do you have any specific dietary restrictions or preferences, such as vegetarian, vegan, or gluten-free?\"\n",
    "    User: \"No, I don't have any dietary restrictions.\"\n",
    "    Assistant: \"Thank you for the information. So, you are looking for an Italian restaurant near Indhira Nagar without any dietary restrictions. Do you have a preference for the type of meal, such as breakfast, lunch, or dinner?\"\n",
    "    User: \"I would prefer a dinner option.\"\n",
    "    Assistant: \"Got it, where are you currently located and mentioned the perferred location? This will help me find restaurants that are close to you.\"\n",
    "    User: \"I am currently at Indhira Nagar, and I would like to find restaurants in that area.\"\n",
    "    Assistant: \"Thank you for the information! So, to summarize, you are looking for an Italian restaurant for dinner near Indhira Nagar, without any dietary restrictions, and you are currently at Indhira Nagar. Is that correct?\"\n",
    "    User: \"Yes, that sounds good.\"\n",
    "    Assistant: \"Perfect!\n",
    "    Based on your preferences, I will now recommend the top three Italian restaurants near Indhira Nagar for dinner. Please hold on for a moment while I gather the information.\"\n",
    "    \"Got it! You are looking for an Italian restaurant near Indhira Nagar for dinner, without any dietary restrictions. Based on your preferences, here are the top three recommendations:\\n\n",
    "    1. <Restaurant Name> : <Dishes served, cuisine>, <ratings and number of reviews> \\n\n",
    "    2. <Restaurant Name> : <Dishes served, cuisine>, <ratings and number of reviews> \\n\n",
    "    3. <Restaurant Name> : <Dishes served, cuisine>, <ratings and number of reviews> \n",
    "    {delimiter}\n",
    "\n",
    "\n",
    "    Start with a short welcome message and encourage the user to share their requirements.\n",
    "    \"\"\"\n",
    "    conversation = [{\"role\": \"system\", \"content\": system_message }]\n",
    "    return conversation"
   ]
  },
  {
   "cell_type": "markdown",
   "id": "50623c00",
   "metadata": {},
   "source": [
    "#### Function Calling "
   ]
  },
  {
   "cell_type": "code",
   "execution_count": 10,
   "id": "8bf28cff",
   "metadata": {},
   "outputs": [],
   "source": [
    "functions = [\n",
    "    {\n",
    "        \"name\": \"recommend_restaurants\",    # MANDATORY\n",
    "        \"description\": \"Recommend top three restaurants based on user's preferences and requirements like cuisine, dietary restrictions, current location, preferred location, and meal type.\",\n",
    "        \"parameters\": {\n",
    "            \"type\": \"object\",\n",
    "            \"properties\": {\n",
    "                \"cuisine\": {\"type\": \"string\", \"description\": \"Preferred cuisine\"},\n",
    "                \"dietary_restrictions\": {\"type\": \"string\", \"description\": \"Any dietary restrictions\"},\n",
    "                \"current_location\": {\"type\": \"string\", \"description\": \"User's current location\"},\n",
    "                \"preferred_location\": {\"type\": \"string\", \"description\": \"Preferred restaurant area\"},\n",
    "                \"meal_type\": {\"type\": \"string\", \"description\": \"Breakfast, lunch, or dinner\"}\n",
    "            },\n",
    "            \"required\": [\"cuisine\", \"dietary_restrictions\",\"meal_type\", \"preferred_location\",\"current_location\"]\n",
    "        }\n",
    "    }\n",
    "]"
   ]
  },
  {
   "cell_type": "markdown",
   "id": "314729b0",
   "metadata": {},
   "source": [
    "### Chat completion function"
   ]
  },
  {
   "cell_type": "code",
   "execution_count": 11,
   "id": "7580b3ed",
   "metadata": {},
   "outputs": [],
   "source": [
    "def get_chat_completion(messages):\n",
    "    response = client.chat.completions.create(\n",
    "        model=\"gpt-4-0613\",\n",
    "        messages=messages,\n",
    "        functions=functions,\n",
    "        function_call=\"auto\"\n",
    "    )\n",
    "    return response.choices[0].message \n",
    "   "
   ]
  },
  {
   "cell_type": "markdown",
   "id": "6cfaf5ea",
   "metadata": {},
   "source": [
    "### Moderation Check"
   ]
  },
  {
   "cell_type": "code",
   "execution_count": 12,
   "id": "a97f34e7",
   "metadata": {},
   "outputs": [
    {
     "name": "stdout",
     "output_type": "stream",
     "text": [
      "Moderation result for user input 'I want to blast a restaurant.': Flagged\n"
     ]
    }
   ],
   "source": [
    "### Moderation check function\n",
    "def moderation_check(user_input):\n",
    "    # Call the OpenAI API to perform moderation on the user's input.\n",
    "    response = client.moderations.create(input=user_input)\n",
    "\n",
    "    # print(response)\n",
    "\n",
    "    # Extract the moderation result from the API response.\n",
    "    moderation_output = response.results[0].flagged\n",
    "    # Check if the input was flagged by the moderation system.\n",
    "    if response.results[0].flagged == True:\n",
    "        # If flagged, return \"Flagged\"\n",
    "        return \"Flagged\"\n",
    "    else:\n",
    "        # If not flagged, return \"Not Flagged\"\n",
    "        return \"Not Flagged\"\n",
    "### Testing the moderation check function\n",
    "user_input = \"I want to blast a restaurant.\"\n",
    "moderation_result = moderation_check(user_input)\n",
    "print(f\"Moderation result for user input '{user_input}': {moderation_result}\")"
   ]
  },
  {
   "cell_type": "markdown",
   "id": "215544d9",
   "metadata": {},
   "source": [
    "### Perference Maping and Recommendation Layer"
   ]
  },
  {
   "cell_type": "code",
   "execution_count": null,
   "id": "52c24b43",
   "metadata": {},
   "outputs": [],
   "source": [
    "\n",
    "### Defining the function to filter the data based on user preferences\n",
    "def filter_data_based_on_preferences(user_requirement):\n",
    "\n",
    "    \"\"\"Filters the dataset based on user preferences.\"\"\"\n",
    "    # Extracting user preferences\n",
    "    data= pd.read_csv('bengaluru_restaurants_cleaned.csv')\n",
    "    user_requirement = ast.literal_eval(user_requirement) if isinstance(user_requirement, str) else user_requirement\n",
    "    cuisine= user_requirement.get('cuisine', None)\n",
    "    dietary_restrictions = user_requirement.get('dietary_restrictions', None)\n",
    "    current_location = user_requirement.get('current_location', None)\n",
    "    preferred_location = user_requirement.get('preferred_location', None)\n",
    "    meal_type = user_requirement.get('meal_type', None)\n",
    "\n",
    "    ### Creating a flag as 1 to indicate if the user preferences are valid\n",
    "    data['cuisine_flag'] = np.where(data['cuisine'].str.lower().str.contains(cuisine.lower()), 1, 0) if cuisine else 1\n",
    "    data['dietary_restrictions_flag'] = np.where(data['DietaryRestrictions'].str.lower().str.contains(dietary_restrictions.lower()), 1, 0) if dietary_restrictions else 1\n",
    "    # data['current_location_flag'] = np.where(data['localAddress'].str.lower().str.contains(current_location.lower()), 1, 0) if current_location else 1\n",
    "    data['preferred_location_flag'] = np.where(data['localAddress'].str.lower().str.contains(preferred_location.lower()), 1, 0) if preferred_location else 1\n",
    "    data['meal_type_flag'] = np.where(data['MealType'].str.lower().str.contains(meal_type.lower()), 1, 0) if meal_type else 1\n",
    "    ### \n",
    "    data[\"user_preference_score\"]=data['cuisine_flag'] + data['dietary_restrictions_flag'] + data['preferred_location_flag'] + data['meal_type_flag'] #+ data['current_location_flag'] \n",
    "\n",
    "    ### Sort the data by most matched perferences and highest rating \n",
    "    data=data.sort_values(['user_preference_score','rating'], ascending=[False, False])\n",
    "    top_restuarants=data.head(3)\n",
    "    return top_restuarants.to_json(orient='records')\n",
    "\n",
    "def recommend_restaurants(user_preferences):\n",
    "    \"\"\"Recommends top three restaurants based on user preferences.\"\"\"\n",
    "    # Filter the dataset based on user preferences\n",
    "    filtered_data = filter_data_based_on_preferences(user_preferences)  \n",
    "    # Convert the filtered data to a DataFrame\n",
    "    filtered_df = pd.read_json(filtered_data, orient='records')\n",
    "    # Check if there are any restaurants that match the user's preferences\n",
    "    if filtered_df.empty:\n",
    "        return \"No restaurants found matching your preferences.\"\n",
    "    else:\n",
    "        # Format the recommendations\n",
    "        recommendations = []    \n",
    "        for index, row in filtered_df.iterrows(): \n",
    "            recommendation = f\"{index + 1}. {row['name'].strip()}: {row['cuisine'].strip()}, rating of {row['rating']} ({row['numberOfReviews']} reviews) - here are the dishes served: {row['Dishes']}\"\n",
    "            recommendations.append(recommendation)\n",
    "        return \"\\n\".join(recommendations)  \n"
   ]
  },
  {
   "cell_type": "markdown",
   "id": "8930957b",
   "metadata": {},
   "source": [
    "### Chatbot layout and dialogue management system"
   ]
  },
  {
   "cell_type": "code",
   "execution_count": 33,
   "id": "0ca6c99e",
   "metadata": {},
   "outputs": [],
   "source": [
    "def dialogue_mgmt_system():\n",
    "    print(\"Welcome to Restaurant Recommendation Assistance\")\n",
    "    conversation = initialize_conversation()\n",
    "    introduction = get_chat_completion(conversation).content\n",
    "    print(introduction + '\\n')\n",
    "    user_input = \"\"\n",
    "    while(user_input != \"exit\"):\n",
    "      user_input = input(\"Please enter your requirements (type 'exit' to quit): \")\n",
    "      if moderation_check(user_input) == \"Flagged\":\n",
    "        print(\"Your input has been flagged by the moderation system. Please rephrase your input.\")\n",
    "        continue\n",
    "      print(\"User:\",user_input)\n",
    "      conversation.append({\"role\": \"user\", \"content\": user_input})\n",
    "      # Step 1: Pass the user input to GPT\n",
    "      response_assistant = get_chat_completion(conversation)\n",
    "      if response_assistant.function_call:\n",
    "        print(\"\\nThank you for providing all the information. Kindly wait, while I fetch the products\\n\")\n",
    "        # Step 2: Extract top3 restaurants by calling the external function\n",
    "        function_name = response_assistant.function_call.name\n",
    "        function_args = json.loads(response_assistant.function_call.arguments)\n",
    "        function_response = recommend_restaurants(function_args)\n",
    "        # function_response = recommend_restaurants(sorted_restauranrts)\n",
    "        if len(function_response) == 0:\n",
    "          print(\"Sorry, we do not have any restaurants matching with your requirement. Connecting you to a human expert.\")\n",
    "          break\n",
    "        # Step 3: send the info on the function call and function response to GPT\n",
    "        conversation.append(response_assistant)\n",
    "        conversation.append(\n",
    "            {\n",
    "                \"role\": \"function\",\n",
    "                \"name\": function_name,\n",
    "                \"content\": function_response,\n",
    "            }\n",
    "        )\n",
    "        recommendation = get_chat_completion(conversation)\n",
    "        conversation.append({\"role\": \"assistant\", \"content\": recommendation.content})\n",
    "        print(\"\\n\"+ \"Assistant: \"+ recommendation.content + \"\\n\")\n",
    "      else:\n",
    "        conversation.append({\"role\": \"assistant\", \"content\": response_assistant.content})\n",
    "        print(\"\\n\" + \"Assistant: \"+ response_assistant.content + \"\\n\")"
   ]
  },
  {
   "cell_type": "code",
   "execution_count": 36,
   "id": "132cc47f",
   "metadata": {},
   "outputs": [
    {
     "name": "stdout",
     "output_type": "stream",
     "text": [
      "Welcome to Restaurant Recommendation Assistance\n",
      "Assistant: \"Hello! I'm here to help you find the perfect restaurant for an occasion that suits your preferences. Could you please share your requirements?\"\n",
      "\n",
      "User: I want to have indian breakfast\n",
      "\n",
      "Assistant: Great! You'd like to have Indian breakfast. Could you please inform where would you prefer to have breakfast and where are you currently located? These details will help me find the best possible options for you.\n",
      "\n",
      "User: I'm in bellandur and find places in bellandur itself\n",
      "\n",
      "Thank you for providing all the information. Kindly wait, while I fetch the products\n",
      "\n",
      "\n",
      "Assistant: Based on your preferences, here are the top three Indian restaurants in Bellandur for breakfast:\n",
      "\n",
      "1. Kava: Serves American Indian European Asian dishes, rated 4 stars with 33 reviews. \n",
      "\n",
      "2. Spice It Restaurant: Serves Indian International Asian dishes, rated 4 stars with 57 reviews.\n",
      "\n",
      "3. Skylit: Serves Indian Asian dishes, rated 4 stars with 43 reviews. \n",
      "\n",
      "I hope you enjoy your meal!\n",
      "\n",
      "User: ok\n",
      "\n",
      "Assistant: Great! If you have any other requirements or need assistance with anything else, feel free to ask. Enjoy your meal!\n",
      "\n",
      "User: exit\n",
      "\n",
      "Assistant: Sure! If you need any more assistance in the future, don't hesitate to ask. Have a great day!\n",
      "\n"
     ]
    }
   ],
   "source": [
    "dialogue_mgmt_system()"
   ]
  },
  {
   "cell_type": "markdown",
   "id": "b67ddcd7",
   "metadata": {},
   "source": [
    "#### Evaluation of recommended restaurants"
   ]
  },
  {
   "cell_type": "code",
   "execution_count": null,
   "id": "2b38df19",
   "metadata": {},
   "outputs": [],
   "source": [
    "\n",
    "def eval_data(user_requirement):\n",
    "\n",
    "    \"\"\"Filters the dataset based on user preferences.\"\"\"\n",
    "    # Extracting user preferences\n",
    "    data= pd.read_csv('bengaluru_restaurants_cleaned.csv')\n",
    "    user_requirement = ast.literal_eval(user_requirement) if isinstance(user_requirement, str) else user_requirement\n",
    "    cuisine= user_requirement.get('cuisine', None)\n",
    "    dietary_restrictions = user_requirement.get('dietary_restrictions', None)\n",
    "    current_location = user_requirement.get('current_location', None)\n",
    "    preferred_location = user_requirement.get('preferred_location', None)\n",
    "    meal_type = user_requirement.get('meal_type', None)\n",
    "\n",
    "    ### Creating a flag as 1 to indicate if the user preferences are valid\n",
    "    data['cuisine_flag'] = np.where(data['cuisine'].str.lower().str.contains(cuisine.lower()), 1, 0) if cuisine else 1\n",
    "    data['dietary_restrictions_flag'] = np.where(data['DietaryRestrictions'].str.lower().str.contains(dietary_restrictions.lower()), 1, 0) if dietary_restrictions else 1\n",
    "    # data['current_location_flag'] = np.where(data['localAddress'].str.lower().str.contains(current_location.lower()), 1, 0) if current_location else 1\n",
    "    data['preferred_location_flag'] = np.where(data['localAddress'].str.lower().str.contains(preferred_location.lower()), 1, 0) if preferred_location else 1\n",
    "    data['meal_type_flag'] = np.where(data['MealType'].str.lower().str.contains(meal_type.lower()), 1, 0) if meal_type else 1\n",
    "    ### \n",
    "    data[\"user_preference_score\"]=data['cuisine_flag'] + data['dietary_restrictions_flag'] + data['preferred_location_flag'] + data['meal_type_flag'] #+ data['current_location_flag'] \n",
    "\n",
    "    ### Sort the data by most matched perferences and highest rating \n",
    "    data=data.sort_values(['user_preference_score','rating'], ascending=[False, False])\n",
    "\n",
    "    return data\n",
    "\n"
   ]
  },
  {
   "cell_type": "code",
   "execution_count": null,
   "id": "0a3f24c6",
   "metadata": {},
   "outputs": [
    {
     "data": {
      "text/html": [
       "<div>\n",
       "<style scoped>\n",
       "    .dataframe tbody tr th:only-of-type {\n",
       "        vertical-align: middle;\n",
       "    }\n",
       "\n",
       "    .dataframe tbody tr th {\n",
       "        vertical-align: top;\n",
       "    }\n",
       "\n",
       "    .dataframe thead th {\n",
       "        text-align: right;\n",
       "    }\n",
       "</style>\n",
       "<table border=\"1\" class=\"dataframe\">\n",
       "  <thead>\n",
       "    <tr style=\"text-align: right;\">\n",
       "      <th></th>\n",
       "      <th>name</th>\n",
       "      <th>rating</th>\n",
       "      <th>cuisine_flag</th>\n",
       "      <th>dietary_restrictions_flag</th>\n",
       "      <th>preferred_location_flag</th>\n",
       "      <th>meal_type_flag</th>\n",
       "      <th>user_preference_score</th>\n",
       "    </tr>\n",
       "  </thead>\n",
       "  <tbody>\n",
       "    <tr>\n",
       "      <th>323</th>\n",
       "      <td>Kava</td>\n",
       "      <td>4.0</td>\n",
       "      <td>1</td>\n",
       "      <td>1</td>\n",
       "      <td>1</td>\n",
       "      <td>1</td>\n",
       "      <td>4</td>\n",
       "    </tr>\n",
       "    <tr>\n",
       "      <th>380</th>\n",
       "      <td>Spice It Restaurant</td>\n",
       "      <td>4.0</td>\n",
       "      <td>1</td>\n",
       "      <td>1</td>\n",
       "      <td>1</td>\n",
       "      <td>1</td>\n",
       "      <td>4</td>\n",
       "    </tr>\n",
       "    <tr>\n",
       "      <th>480</th>\n",
       "      <td>Skylit</td>\n",
       "      <td>4.0</td>\n",
       "      <td>1</td>\n",
       "      <td>1</td>\n",
       "      <td>1</td>\n",
       "      <td>1</td>\n",
       "      <td>4</td>\n",
       "    </tr>\n",
       "    <tr>\n",
       "      <th>69</th>\n",
       "      <td>Caraway Kitchen</td>\n",
       "      <td>5.0</td>\n",
       "      <td>1</td>\n",
       "      <td>1</td>\n",
       "      <td>0</td>\n",
       "      <td>1</td>\n",
       "      <td>3</td>\n",
       "    </tr>\n",
       "    <tr>\n",
       "      <th>77</th>\n",
       "      <td>The Creek</td>\n",
       "      <td>5.0</td>\n",
       "      <td>1</td>\n",
       "      <td>1</td>\n",
       "      <td>0</td>\n",
       "      <td>1</td>\n",
       "      <td>3</td>\n",
       "    </tr>\n",
       "  </tbody>\n",
       "</table>\n",
       "</div>"
      ],
      "text/plain": [
       "                    name  rating  cuisine_flag  dietary_restrictions_flag  \\\n",
       "323                 Kava     4.0             1                          1   \n",
       "380  Spice It Restaurant     4.0             1                          1   \n",
       "480               Skylit     4.0             1                          1   \n",
       "69       Caraway Kitchen     5.0             1                          1   \n",
       "77             The Creek     5.0             1                          1   \n",
       "\n",
       "     preferred_location_flag  meal_type_flag  user_preference_score  \n",
       "323                        1               1                      4  \n",
       "380                        1               1                      4  \n",
       "480                        1               1                      4  \n",
       "69                         0               1                      3  \n",
       "77                         0               1                      3  "
      ]
     },
     "execution_count": 38,
     "metadata": {},
     "output_type": "execute_result"
    }
   ],
   "source": [
    "### This user preferrences are the result of \n",
    "user_perference={\"cuisine\":\"indian\", \n",
    "                 \"dietary_restrictions\":\"veg\",\n",
    "                 \"meal_type\":\"breakfast\", \n",
    "                 \"preferred_location\":\"bellandur\",\n",
    "                 \"current_location\":\"Bellandur\"}\n",
    "\n",
    "ev_data=eval_data(user_perference)\n",
    "ev_data[['name','rating','cuisine_flag',\n",
    "       'dietary_restrictions_flag', 'preferred_location_flag',\n",
    "       'meal_type_flag', 'user_preference_score']].head()"
   ]
  },
  {
   "cell_type": "markdown",
   "id": "54db176a",
   "metadata": {},
   "source": [
    "The recommendations are correctly based on the user perferences and the best restuarants are selected based on the ratings and number of reviewers. The chatbot is performing better on the conversational and intent clarification level as well. Moderation check is in place along with the restrictions of recommendation only within bangalore locality."
   ]
  },
  {
   "cell_type": "markdown",
   "id": "5ba1a08a",
   "metadata": {},
   "source": []
  }
 ],
 "metadata": {
  "kernelspec": {
   "display_name": "Python 3",
   "language": "python",
   "name": "python3"
  },
  "language_info": {
   "codemirror_mode": {
    "name": "ipython",
    "version": 3
   },
   "file_extension": ".py",
   "mimetype": "text/x-python",
   "name": "python",
   "nbconvert_exporter": "python",
   "pygments_lexer": "ipython3",
   "version": "3.9.0"
  }
 },
 "nbformat": 4,
 "nbformat_minor": 5
}
